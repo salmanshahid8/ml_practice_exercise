{
 "cells": [
  {
   "attachments": {},
   "cell_type": "markdown",
   "metadata": {},
   "source": [
    "# Bank note authentification\n",
    "\n",
    "- In this project, you have to predict whether the bank note is fake (0) or original (1) based on the features extracted from the images of different bank notes."
   ]
  },
  {
   "attachments": {},
   "cell_type": "markdown",
   "metadata": {},
   "source": [
    "# Tasks to complete\n",
    "\n",
    "- Importing the classifiers from the following classes of scikit-learn.\n",
    "    - `ensemble`\n",
    "    - `tree`\n",
    "    - `neural_network`\n",
    "        - Hint : In search bar of [Scikit-learn API](https://scikit-learn.org/stable/api/index.html), type `classifier` and identify all the estimators from the above mentioned classes.\n",
    "- Importing 2 metrics/indicators with respect to the type of problem.\n",
    "- Identification and treatment of missing values (if any).\n",
    "- Identification of `X` and `y` subsets.\n",
    "- 5-fold cross validation on the chosen classifiers and selection of the best classifier.\n",
    "- 10-fold cross validation on the chosen classifiers and selection of the best classifier.\n",
    "- Splitting the data into train subsets and test subsets.\n",
    "- Training the model on train subsets.\n",
    "- Calculation of error on train prediction and measured values.\n",
    "- Predicting using the model on concerned test subset. \n",
    "- Calculation of error on test prediction and measured values.\n",
    "- Conclusion about the performance of the model based on the results of the metrics/indicators.\n",
    "- Saving the model.\n",
    "\n",
    "Later on,\n",
    "\n",
    "- For the data file `banknote_rwi.twt`, predict for each row, and tell whether the notes are genuine or fake?"
   ]
  },
  {
   "cell_type": "code",
   "execution_count": null,
   "metadata": {},
   "outputs": [],
   "source": []
  },
  {
   "cell_type": "code",
   "execution_count": null,
   "metadata": {},
   "outputs": [],
   "source": []
  },
  {
   "cell_type": "code",
   "execution_count": null,
   "metadata": {},
   "outputs": [],
   "source": []
  },
  {
   "cell_type": "code",
   "execution_count": null,
   "metadata": {},
   "outputs": [],
   "source": []
  },
  {
   "cell_type": "code",
   "execution_count": null,
   "metadata": {},
   "outputs": [],
   "source": []
  }
 ],
 "metadata": {
  "language_info": {
   "name": "python"
  },
  "orig_nbformat": 4
 },
 "nbformat": 4,
 "nbformat_minor": 2
}
