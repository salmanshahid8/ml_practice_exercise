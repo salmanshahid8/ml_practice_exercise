{
 "cells": [
  {
   "attachments": {},
   "cell_type": "markdown",
   "metadata": {},
   "source": [
    "Import the following librairies and modules\n",
    "\n",
    "- `pickle`\n",
    "- `warnings`\n",
    "- `numpy` as `np`\n",
    "- `pandas` as `pd`\n",
    "- `matplotlib.pyplot` as `plt`\n",
    "- from `sklearn.linear_model` import `LinearRegression`\n",
    "- from `sklearn.tree` import `DecisionTreeRegressor`\n",
    "- from `sklearn.ensemble` import `RandomForestRegressor`, `AdaBoostRegressor`, `BaggingRegressor`, `GradientBoostingRegressor`\n",
    "- from `sklearn.model_selection` import `cross_val_score` and `train_test_split`\n",
    "- from `sklearn.metrics` import `r2_score` and `mean_absolute_percentage_error`\n"
   ]
  },
  {
   "cell_type": "code",
   "execution_count": 1,
   "metadata": {},
   "outputs": [],
   "source": []
  },
  {
   "cell_type": "code",
   "execution_count": null,
   "metadata": {},
   "outputs": [],
   "source": [
    "# To suppress the warnings in the notebook\n",
    "warnings.filterwarnings(\"ignore\")"
   ]
  },
  {
   "attachments": {},
   "cell_type": "markdown",
   "metadata": {},
   "source": [
    "##### Step 0:\n",
    "\n",
    "- read the csv file `pgm_consumption.csv` and store in the variable `df`\n",
    "- set `header=0`.\n",
    "- display the first 5 rows."
   ]
  },
  {
   "cell_type": "code",
   "execution_count": null,
   "metadata": {},
   "outputs": [],
   "source": []
  },
  {
   "cell_type": "markdown",
   "metadata": {},
   "source": [
    "We need to treat the `datetime` column to set it as index. Simply execute the cell."
   ]
  },
  {
   "cell_type": "code",
   "execution_count": null,
   "metadata": {},
   "outputs": [],
   "source": [
    "df[\"datetime\"] = pd.to_datetime(df[\"datetime\"], format=\"%Y-%m-%d %H:%M:%S\")\n",
    "df = df.set_index(\"datetime\")\n",
    "df = df.sort_index()\n",
    "df.head()"
   ]
  },
  {
   "attachments": {},
   "cell_type": "markdown",
   "metadata": {},
   "source": [
    "##### Step 1:\n",
    "- Check the data health.\n",
    "    - Are there any missing values? See [hint](https://stackoverflow.com/questions/26266362/how-do-i-count-the-nan-values-in-a-column-in-pandas-dataframe)\n",
    "    - There are no outliers, so we donot have to check for outliers."
   ]
  },
  {
   "cell_type": "code",
   "execution_count": null,
   "metadata": {},
   "outputs": [],
   "source": []
  },
  {
   "cell_type": "markdown",
   "metadata": {},
   "source": [
    "- Plot the first week of the dataframe. See [Pandas Dataframe head](https://pandas.pydata.org/docs/reference/api/pandas.DataFrame.head.html)\n",
    "- By looking at the graph what do you observe in terms of pattern (seasonility) in the graph? Write in a markdown below"
   ]
  },
  {
   "cell_type": "code",
   "execution_count": null,
   "metadata": {},
   "outputs": [],
   "source": []
  },
  {
   "cell_type": "markdown",
   "metadata": {},
   "source": [
    "##### Step 2:\n",
    "\n",
    "- We need to transform this univariate dataset into multivariate dataset.\n",
    "- If you donot understand what is happening in the following cell, please raise a question."
   ]
  },
  {
   "cell_type": "code",
   "execution_count": null,
   "metadata": {},
   "outputs": [],
   "source": [
    "number_of_hours_in_a_day = 24\n",
    "\n",
    "list_shifting_days = [1, 7, 365, 365+1, 365+7]\n",
    "\n",
    "for shifting_days in list_shifting_days:\n",
    "    df[f\"consumption_{shifting_days}_day\"] = df[\"consumption\"].shift(number_of_hours_in_a_day * shifting_days)\n",
    "\n",
    "df = df.dropna()"
   ]
  },
  {
   "cell_type": "markdown",
   "metadata": {},
   "source": [
    "##### Step 3:\n",
    "\n",
    "- Split the data into input variables `X` and target variable `y`.\n",
    "- Here we would like to predict the `consumption` based on the generated columns."
   ]
  },
  {
   "cell_type": "code",
   "execution_count": null,
   "metadata": {},
   "outputs": [],
   "source": []
  },
  {
   "cell_type": "code",
   "execution_count": null,
   "metadata": {},
   "outputs": [],
   "source": [
    "dict_regressors = {\"DecisionTreeRegressor\":DecisionTreeRegressor(),\n",
    "                   \"RandomForestRegressor\":RandomForestRegressor(),\n",
    "                   \"AdaBoostRegressor\":AdaBoostRegressor(),\n",
    "                   \"BaggingRegressor\":BaggingRegressor(),\n",
    "                   \"GradientBoostingRegressor\":GradientBoostingRegressor(),\n",
    "                   \"LinearRegressor\":LinearRegression()}"
   ]
  },
  {
   "cell_type": "markdown",
   "metadata": {},
   "source": [
    "Before moving forward, let us select the algorithm which relatively gives us the best model. We can do it using `cross_val_score`.\n",
    "\n",
    "- Iterate over the dictionary `dict_regressors` to calculate `cross_val_score`. See[Scikit-Learn cross_val_score](https://scikit-learn.org/stable/modules/generated/sklearn.model_selection.cross_val_score.html)\n",
    "    - Keep `cv=5` in the input/argument of `cross_val_score`. It means that you are splitting your dataset into 5 chunks, and cross_val iterates over all of them by keeping one chunk as test subset and the other 4 as train subset. Store the result of `cross_val_score` in a variable `score`.\n",
    "    - Display the average score, rounded up to 2 decimal points, side by side to the key of `dict_regressors`. See [Python Round](https://www.w3schools.com/python/ref_func_round.asp) and [Numpy mean](https://numpy.org/doc/stable/reference/generated/numpy.mean.html)"
   ]
  },
  {
   "cell_type": "code",
   "execution_count": null,
   "metadata": {},
   "outputs": [],
   "source": []
  },
  {
   "cell_type": "markdown",
   "metadata": {},
   "source": [
    "Choose the regressor you seem better suited for this problem. Justify it in a markdown below"
   ]
  },
  {
   "attachments": {},
   "cell_type": "markdown",
   "metadata": {},
   "source": [
    "##### Step 4:\n",
    "\n",
    "We need to split the whole dataset into training subset and test subset. \n",
    "- To do so, look at the [train_test_split documentation](https://scikit-learn.org/stable/modules/generated/sklearn.model_selection.train_test_split.html) and figure out how to use the method `train_test_split` to split the dataset into subsets. \n",
    "- Keep `test_size=0.20` as an input/argument to `train_test_split` method. It means that we are keeping 20% of data for test and rest for training.\n",
    "- Keep `random_state=8` as an input/argument to `train_test_split` method.\n",
    "- Your output variable should be `X_train`, `X_test`, `y_train`, `y_test`"
   ]
  },
  {
   "cell_type": "code",
   "execution_count": null,
   "metadata": {},
   "outputs": [],
   "source": []
  },
  {
   "attachments": {},
   "cell_type": "markdown",
   "metadata": {},
   "source": [
    "##### Step 5:\n",
    "\n",
    "- Call the model of your chosen regressor and store in a variable `model`.\n",
    "- Fit the seen data i.e. `X_train` and `y_train` in it. \n",
    "\n",
    "See the official documentation of your chosen regressor. to find it, type it in google `scikit-learn <your_chosen_regressor>`"
   ]
  },
  {
   "cell_type": "code",
   "execution_count": null,
   "metadata": {},
   "outputs": [],
   "source": []
  },
  {
   "attachments": {},
   "cell_type": "markdown",
   "metadata": {},
   "source": [
    "##### Step 6:\n",
    "\n",
    "To verify if the model works fine on training data (also known as seen data), we need to first predict using `X_train`.\n",
    "- Save the result in a variable `y_predict_train`"
   ]
  },
  {
   "cell_type": "code",
   "execution_count": 24,
   "metadata": {},
   "outputs": [],
   "source": []
  },
  {
   "attachments": {},
   "cell_type": "markdown",
   "metadata": {},
   "source": [
    "##### Step 7:\n",
    "\n",
    "- The result `y_predict_train` should be compared with the measured values `y_train` to calculate the error (or score) using an indicator.\n",
    "- Coefficient of determination also called as R2 score is used to evaluate the performance of a linear regression model. It is the amount of the variation in the output dependent attribute which is predictable from the input independent variable(s). A good R2 score is close to 1, a bad R2 score is close to 0\n",
    "\n",
    "You have to measure the r2_score. See [Scikit-Learn r2_score](https://scikit-learn.org/stable/modules/generated/sklearn.metrics.r2_score.html). \n",
    "- Remember that `y_true=y_train` and `y_pred=y_predict_train` as input/argument to `r2_score` method.\n",
    "- You should store the result in a variable `r2_train`"
   ]
  },
  {
   "cell_type": "code",
   "execution_count": null,
   "metadata": {},
   "outputs": [],
   "source": []
  },
  {
   "cell_type": "markdown",
   "metadata": {},
   "source": [
    "Similarly, you have to measure the `mean_absoulute_percentage_error`. See [Scikit-Learn mean_absolute_percentage_error](https://scikit-learn.org/stable/modules/generated/sklearn.metrics.mean_absolute_percentage_error.html)\n",
    "\n",
    "- You should store the result in a variable `mape_train`"
   ]
  },
  {
   "cell_type": "code",
   "execution_count": null,
   "metadata": {},
   "outputs": [],
   "source": []
  },
  {
   "attachments": {},
   "cell_type": "markdown",
   "metadata": {},
   "source": [
    "##### Step 8-a:\n",
    "\n",
    "- predict on unseen data `X_test` subset using the `model` and save it as `y_predict_test`"
   ]
  },
  {
   "cell_type": "code",
   "execution_count": null,
   "metadata": {},
   "outputs": [],
   "source": []
  },
  {
   "cell_type": "markdown",
   "metadata": {},
   "source": [
    "##### Step 8-b:\n",
    "\n",
    "- calculate r2 score of `y_test` and `y_predict_test`\n",
    "- You should store the result in a variable `r2_test`"
   ]
  },
  {
   "cell_type": "code",
   "execution_count": null,
   "metadata": {},
   "outputs": [],
   "source": []
  },
  {
   "cell_type": "markdown",
   "metadata": {},
   "source": [
    "- calculate mean absolute percentage error of `y_test` and `y_predict_test`\n",
    "- You should store the result in a variable `mape_test`"
   ]
  },
  {
   "cell_type": "code",
   "execution_count": null,
   "metadata": {},
   "outputs": [],
   "source": []
  },
  {
   "attachments": {},
   "cell_type": "markdown",
   "metadata": {},
   "source": [
    "##### Step 9:\n",
    "\n",
    "- Compare `r2_train` and `r2_test`, what do you think about model? Is it best, good, bad or worst? Write your answer in a markdown below."
   ]
  },
  {
   "cell_type": "markdown",
   "metadata": {},
   "source": [
    "- Compare `mape_train` and `mape_test`, what do you think about model? Is it best, good, bad or worst? Write your answer in a markdown below."
   ]
  },
  {
   "cell_type": "markdown",
   "metadata": {},
   "source": [
    "- Looking at both indicators and their comparison that you made just above, what is your conclusion about the model. Is it marketable? Write your answer in a markdown below."
   ]
  },
  {
   "cell_type": "markdown",
   "metadata": {},
   "source": [
    "Run the cell below to visualize the prediction v/s recorded values. What do you think about the superposition of `predicted_values` on `measured_values`? Write your answer in a markdown below."
   ]
  },
  {
   "cell_type": "code",
   "execution_count": null,
   "metadata": {},
   "outputs": [],
   "source": [
    "true_value = y_test.reset_index()\n",
    "df_test=pd.DataFrame()\n",
    "df_test['measured_values'] = true_value['consumption']\n",
    "df_test['predicted_values']=y_predict_test\n",
    "df_test.head(24*2).plot()"
   ]
  },
  {
   "attachments": {},
   "cell_type": "markdown",
   "metadata": {},
   "source": [
    "##### Step 10:\n",
    "\n",
    "Save the model with filename `model_abc.pkl`, where `abc` should be replaced by your chosen regressor name. You can use it later."
   ]
  },
  {
   "cell_type": "code",
   "execution_count": 30,
   "metadata": {},
   "outputs": [],
   "source": []
  },
  {
   "cell_type": "markdown",
   "metadata": {},
   "source": [
    "##### Real World Use-Case:\n",
    "\n",
    "Now that you have trained the model on `X_train` and tested internally yourself using `X_test`, let us test it on real-world use-case."
   ]
  },
  {
   "cell_type": "markdown",
   "metadata": {},
   "source": [
    "- read the csv file `pgm_consumption_rwi.csv` and store in the variable `X_rwi`\n",
    "- set `header=0`.\n",
    "- display the first 5 rows."
   ]
  },
  {
   "cell_type": "code",
   "execution_count": null,
   "metadata": {},
   "outputs": [],
   "source": []
  },
  {
   "cell_type": "code",
   "execution_count": null,
   "metadata": {},
   "outputs": [],
   "source": [
    "X_rwi[\"datetime\"] = pd.to_datetime(X_rwi[\"datetime\"], format=\"%Y-%m-%d %H:%M:%S\")\n",
    "X_rwi = X_rwi.set_index(\"datetime\")\n",
    "X_rwi = X_rwi.sort_index()\n",
    "X_rwi.head()"
   ]
  },
  {
   "cell_type": "markdown",
   "metadata": {},
   "source": [
    "Filter the data between **2012-07-09 00:00:00** and **2012-07-09 23:59:00**"
   ]
  },
  {
   "cell_type": "code",
   "execution_count": null,
   "metadata": {},
   "outputs": [],
   "source": []
  },
  {
   "cell_type": "markdown",
   "metadata": {},
   "source": [
    "- Check the data health.\n",
    "    - Are there any missing values?"
   ]
  },
  {
   "cell_type": "code",
   "execution_count": null,
   "metadata": {},
   "outputs": [],
   "source": []
  },
  {
   "cell_type": "markdown",
   "metadata": {},
   "source": [
    "Load the saved model `model_abc.pkl` where `abc` should be replaced by your chosen regressor name and store it in variable `loaded_model`. "
   ]
  },
  {
   "cell_type": "code",
   "execution_count": null,
   "metadata": {},
   "outputs": [],
   "source": []
  },
  {
   "cell_type": "markdown",
   "metadata": {},
   "source": [
    "Repeat step 8-a, however instead of `X_test`, you have to predict on `X_rwi` and store the results in a variable `y_predict_rwi`. also display `y_predict_rwi` or better visualize it using `matplotlib`"
   ]
  },
  {
   "cell_type": "code",
   "execution_count": null,
   "metadata": {},
   "outputs": [],
   "source": []
  },
  {
   "cell_type": "markdown",
   "metadata": {},
   "source": [
    "By doing so, you did day-ahead prediction for **2012-07-10** of energy consumption for the DSO (named PGM here). Congratulations! The exercise ends here."
   ]
  }
 ],
 "metadata": {
  "kernelspec": {
   "display_name": "mhi",
   "language": "python",
   "name": "python3"
  },
  "language_info": {
   "codemirror_mode": {
    "name": "ipython",
    "version": 3
   },
   "file_extension": ".py",
   "mimetype": "text/x-python",
   "name": "python",
   "nbconvert_exporter": "python",
   "pygments_lexer": "ipython3",
   "version": "3.12.0"
  },
  "orig_nbformat": 4
 },
 "nbformat": 4,
 "nbformat_minor": 2
}
