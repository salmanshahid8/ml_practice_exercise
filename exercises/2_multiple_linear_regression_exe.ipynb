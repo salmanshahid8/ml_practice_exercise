{
 "cells": [
  {
   "attachments": {},
   "cell_type": "markdown",
   "metadata": {},
   "source": [
    "Import the following librairies and modules\n",
    "\n",
    "- `pickle`\n",
    "- `warnings`\n",
    "- `numpy` as `np`\n",
    "- `pandas` as `pd`\n",
    "- `matplotlib.pyplot` as `plt`\n",
    "- from `sklearn.linear_model` import `LinearRegression`\n",
    "- from `sklearn.model_selection` import `train_test_split`\n",
    "- from `sklearn.metrics` import `r2_score` and `mean_absolute_percentage_error`\n"
   ]
  },
  {
   "cell_type": "code",
   "execution_count": 1,
   "metadata": {},
   "outputs": [],
   "source": []
  },
  {
   "cell_type": "code",
   "execution_count": null,
   "metadata": {},
   "outputs": [],
   "source": [
    "# To suppress the warnings in the notebook\n",
    "warnings.filterwarnings(\"ignore\")"
   ]
  },
  {
   "attachments": {},
   "cell_type": "markdown",
   "metadata": {},
   "source": [
    "##### Step 0:\n",
    "\n",
    "- read the csv file `insurance.csv` and store in the variable `df`\n",
    "- set `header=0`.\n",
    "- display the first 5 rows."
   ]
  },
  {
   "cell_type": "code",
   "execution_count": null,
   "metadata": {},
   "outputs": [],
   "source": []
  },
  {
   "attachments": {},
   "cell_type": "markdown",
   "metadata": {},
   "source": [
    "Converting the datatype of `[\"sex\", \"smoker\", \"region\"]` columns from `string` to `categorial`.\n",
    "- Simply execute the following cell."
   ]
  },
  {
   "cell_type": "code",
   "execution_count": null,
   "metadata": {},
   "outputs": [],
   "source": [
    "cols_to_cate = [\"sex\", \"smoker\", \"region\"]\n",
    "\n",
    "for col in cols_to_cate:\n",
    "    df[col] = df[col].astype('category')\n",
    "    df[col] = df[col].cat.codes\n",
    "\n",
    "df.head()"
   ]
  },
  {
   "attachments": {},
   "cell_type": "markdown",
   "metadata": {},
   "source": [
    "##### Step 1:\n",
    "- Check the data health.\n",
    "    - Are there any missing values? See [hint](https://stackoverflow.com/questions/26266362/how-do-i-count-the-nan-values-in-a-column-in-pandas-dataframe)\n",
    "    - There are no outliers, so we donot have to check for outliers."
   ]
  },
  {
   "cell_type": "code",
   "execution_count": null,
   "metadata": {},
   "outputs": [],
   "source": []
  },
  {
   "cell_type": "markdown",
   "metadata": {},
   "source": [
    "##### Step 2:\n",
    "\n",
    "- Split the data into input variables `X` and target variable `y`.\n",
    "- Here we would like to predict the healthcare `expenses` of a person based on `age`, `sex`, `bmi`, `children`, `smoker` and `region`, So you have to make 2 dataframes out of dataframe `df`,\n",
    "    - first, you have to make dataframe `X` with the columns `age`, `sex`, `bmi`, `children`, `smoker` and `region`. Note that `expenses` column should not exist in `X` dataframe. See [Pandas Dataframe drop](https://pandas.pydata.org/docs/reference/api/pandas.DataFrame.drop.html)\n",
    "    - second, you have to make dataframe `y` having only the column `expenses`. See [Pandas Dataframe filter](https://pandas.pydata.org/pandas-docs/dev/reference/api/pandas.DataFrame.filter.html)"
   ]
  },
  {
   "cell_type": "code",
   "execution_count": null,
   "metadata": {},
   "outputs": [],
   "source": []
  },
  {
   "attachments": {},
   "cell_type": "markdown",
   "metadata": {},
   "source": [
    "##### Step 3:\n",
    "\n",
    "We need to split the whole dataset into training subset and test subset. \n",
    "- To do so, look at the [train_test_split documentation](https://scikit-learn.org/stable/modules/generated/sklearn.model_selection.train_test_split.html) and figure out how to use the method `train_test_split` to split the dataset into subsets. \n",
    "- Keep `test_size=0.20` as an input/argument to `train_test_split` method. It means that we are keeping 20% of data for test and rest for training.\n",
    "- Keep `random_state=8` as an input/argument to `train_test_split` method.\n",
    "- Your output variable should be `X_train`, `X_test`, `y_train`, `y_test`"
   ]
  },
  {
   "cell_type": "code",
   "execution_count": null,
   "metadata": {},
   "outputs": [],
   "source": []
  },
  {
   "attachments": {},
   "cell_type": "markdown",
   "metadata": {},
   "source": [
    "##### Step 4:\n",
    "\n",
    "- Call the model and store in a variable `model`.\n",
    "- Fit the seen data i.e. `X_train` and `y_train` in it. \n",
    "\n",
    "See [Scikit-Learn Linear Regression](https://scikit-learn.org/stable/modules/generated/sklearn.linear_model.LinearRegression.html)"
   ]
  },
  {
   "cell_type": "code",
   "execution_count": null,
   "metadata": {},
   "outputs": [],
   "source": []
  },
  {
   "attachments": {},
   "cell_type": "markdown",
   "metadata": {},
   "source": [
    "##### Step 5:\n",
    "\n",
    "To verify if the model works fine on training data (also known as seen data), we need to first predict using `X_train`. See [Scikit-Learn Linear Regression](https://scikit-learn.org/stable/modules/generated/sklearn.linear_model.LinearRegression.html) to find out how to predict.\n",
    "- Save the result in a variable `y_predict_train`"
   ]
  },
  {
   "cell_type": "code",
   "execution_count": 24,
   "metadata": {},
   "outputs": [],
   "source": []
  },
  {
   "attachments": {},
   "cell_type": "markdown",
   "metadata": {},
   "source": [
    "##### Step 6:\n",
    "\n",
    "- The result `y_predict_train` should be compared with the measured values `y_train` to calculate the error (or score) using an indicator.\n",
    "- Coefficient of determination also called as R2 score is used to evaluate the performance of a linear regression model. It is the amount of the variation in the output dependent attribute which is predictable from the input independent variable(s). A good R2 score is close to 1, a bad R2 score is close to 0\n",
    "\n",
    "You have to measure the r2_score. See [Scikit-Learn r2_score](https://scikit-learn.org/stable/modules/generated/sklearn.metrics.r2_score.html). \n",
    "- Remember that `y_true=y_train` and `y_pred=y_predict_train` as input/argument to `r2_score` method.\n",
    "- You should store the result in a variable `r2_train`"
   ]
  },
  {
   "cell_type": "code",
   "execution_count": null,
   "metadata": {},
   "outputs": [],
   "source": []
  },
  {
   "cell_type": "markdown",
   "metadata": {},
   "source": [
    "Similarly, you have to measure the `mean_absoulute_percentage_error`. See [Scikit-Learn mean_absolute_percentage_error](https://scikit-learn.org/stable/modules/generated/sklearn.metrics.mean_absolute_percentage_error.html)\n",
    "\n",
    "- You should store the result in a variable `mape_train`"
   ]
  },
  {
   "cell_type": "code",
   "execution_count": null,
   "metadata": {},
   "outputs": [],
   "source": []
  },
  {
   "attachments": {},
   "cell_type": "markdown",
   "metadata": {},
   "source": [
    "##### Step 7-a:\n",
    "\n",
    "- predict on unseen data `X_test` subset using the `model` and save it as `y_predict_test`"
   ]
  },
  {
   "cell_type": "code",
   "execution_count": null,
   "metadata": {},
   "outputs": [],
   "source": []
  },
  {
   "cell_type": "markdown",
   "metadata": {},
   "source": [
    "##### Step 7-b:\n",
    "\n",
    "- calculate r2 score of `y_test` and `y_predict_test`\n",
    "- You should store the result in a variable `r2_test`"
   ]
  },
  {
   "cell_type": "code",
   "execution_count": null,
   "metadata": {},
   "outputs": [],
   "source": []
  },
  {
   "cell_type": "markdown",
   "metadata": {},
   "source": [
    "- calculate mean absolute percentage error of `y_test` and `y_predict_test`\n",
    "- You should store the result in a variable `mape_test`"
   ]
  },
  {
   "cell_type": "code",
   "execution_count": null,
   "metadata": {},
   "outputs": [],
   "source": []
  },
  {
   "attachments": {},
   "cell_type": "markdown",
   "metadata": {},
   "source": [
    "##### Step 8:\n",
    "\n",
    "- Compare `r2_train` and `r2_test`, what do you think about model? Is it best, good, fine, bad or worst? Write your answer in a markdown below."
   ]
  },
  {
   "cell_type": "markdown",
   "metadata": {},
   "source": [
    "- Compare `mape_train` and `mape_test`, what do you think about model? Is it best, good, fine, bad or worst? Write your answer in a markdown below."
   ]
  },
  {
   "cell_type": "markdown",
   "metadata": {},
   "source": [
    "- Looking at both indicators and their comparison that you made just above, what is your conclusion about the model. Is it marketable? Write your answer in a markdown below."
   ]
  },
  {
   "attachments": {},
   "cell_type": "markdown",
   "metadata": {},
   "source": [
    "##### Step 9:\n",
    "\n",
    "Save the model with filename `model_multiple_linear_regression.pkl`. You can use it anytime later."
   ]
  },
  {
   "cell_type": "code",
   "execution_count": 30,
   "metadata": {},
   "outputs": [],
   "source": [
    "with open('../models/model_multiple_linear_regression.pkl', 'wb') as f:\n",
    "    pickle.dump(model, f)"
   ]
  },
  {
   "cell_type": "markdown",
   "metadata": {},
   "source": [
    "##### Real World Use-Case:\n",
    "\n",
    "Now that you have trained the model on `X_train` and tested internally yourself using `X_test`, let us test it on real-world use-case."
   ]
  },
  {
   "cell_type": "markdown",
   "metadata": {},
   "source": [
    "- read the csv file `insurance_rwi.csv` and store in the variable `X_rwi`\n",
    "- set `header=0`.\n",
    "- display the first 5 rows."
   ]
  },
  {
   "cell_type": "code",
   "execution_count": null,
   "metadata": {},
   "outputs": [],
   "source": []
  },
  {
   "cell_type": "markdown",
   "metadata": {},
   "source": [
    "- Check the data health.\n",
    "    - Are there any missing values?"
   ]
  },
  {
   "cell_type": "code",
   "execution_count": null,
   "metadata": {},
   "outputs": [],
   "source": []
  },
  {
   "cell_type": "markdown",
   "metadata": {},
   "source": [
    "Converting the datatype of `[\"sex\", \"smoker\", \"region\"]` columns from `string` to `categorial`.\n",
    "- Hint : you did it above"
   ]
  },
  {
   "cell_type": "code",
   "execution_count": null,
   "metadata": {},
   "outputs": [],
   "source": []
  },
  {
   "cell_type": "markdown",
   "metadata": {},
   "source": [
    "Load the saved model `model_multiple_linear_regression.pkl` and store it in variable `loaded_model`. \n",
    "\n",
    "- See [Loading models with pickle](https://www.geeksforgeeks.org/save-and-load-machine-learning-models-in-python-with-scikit-learn/) and look under the comment **load the model** "
   ]
  },
  {
   "cell_type": "code",
   "execution_count": null,
   "metadata": {},
   "outputs": [],
   "source": []
  },
  {
   "cell_type": "markdown",
   "metadata": {},
   "source": [
    "Now the easiest part. repeat step 7-a, however instead of `X_test`, you have to predict on `X_rwi` and store the results in a variable `y_predict_rwi`"
   ]
  },
  {
   "cell_type": "code",
   "execution_count": null,
   "metadata": {},
   "outputs": [],
   "source": []
  },
  {
   "cell_type": "code",
   "execution_count": null,
   "metadata": {},
   "outputs": [],
   "source": [
    "X_rwi[\"predicted_expenses\"] = y_predict_rwi"
   ]
  },
  {
   "cell_type": "markdown",
   "metadata": {},
   "source": [
    "Display the first `20` rows of dataframe `X_rwi`. What do you think of predicted values? Write your answer in a markdown below."
   ]
  },
  {
   "cell_type": "code",
   "execution_count": null,
   "metadata": {},
   "outputs": [],
   "source": []
  }
 ],
 "metadata": {
  "kernelspec": {
   "display_name": "mhi",
   "language": "python",
   "name": "python3"
  },
  "language_info": {
   "codemirror_mode": {
    "name": "ipython",
    "version": 3
   },
   "file_extension": ".py",
   "mimetype": "text/x-python",
   "name": "python",
   "nbconvert_exporter": "python",
   "pygments_lexer": "ipython3",
   "version": "3.12.0"
  },
  "orig_nbformat": 4
 },
 "nbformat": 4,
 "nbformat_minor": 2
}
