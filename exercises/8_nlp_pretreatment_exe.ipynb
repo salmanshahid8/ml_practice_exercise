{
 "cells": [
  {
   "cell_type": "markdown",
   "metadata": {},
   "source": [
    "Import the following librairies and modules\n",
    "\n",
    "- `re`\n",
    "- `nltk`\n",
    "- `spacy`\n",
    "- `enchant`\n",
    "- `warnings`\n",
    "- `pandas`\n",
    "- `tqdm` [Hint : tqdm](https://www.geeksforgeeks.org/python-how-to-make-a-terminal-progress-bar-using-tqdm/)\n",
    "- `TextBlob` [Hint : TextBlob](https://textblob.readthedocs.io/en/dev/index.html)\n",
    "- `stopwords` [Hint : stopwords](https://www.geeksforgeeks.org/removing-stop-words-nltk-python/)\n",
    "- ``unidecode`` [Hint : unidecode](https://pypi.org/project/Unidecode/)"
   ]
  },
  {
   "cell_type": "code",
   "execution_count": 22,
   "metadata": {},
   "outputs": [],
   "source": []
  },
  {
   "cell_type": "code",
   "execution_count": null,
   "metadata": {},
   "outputs": [],
   "source": [
    "# To suppress the warnings in the notebook\n",
    "warnings.filterwarnings(\"ignore\")\n",
    "\n",
    "# Download the stopwords\n",
    "nltk.download('stopwords')\n",
    "\n",
    "# Set of stopwords\n",
    "STOPWORDS = list(set(stopwords.words('english')))\n",
    "STOPWORDS.remove(\"not\")\n",
    "\n",
    "# English Dictionary\n",
    "ENGLISH_DICTIONARY = enchant.Dict(\"en_US\")\n",
    "\n",
    "# Object of spacy\n",
    "NLP = spacy.load(\"en_core_web_sm\")"
   ]
  },
  {
   "cell_type": "markdown",
   "metadata": {},
   "source": [
    "##### Step 1:\n",
    "\n",
    "- read the csv file `sentiment140.csv` and store in the variable `df`\n",
    "- set `header=0` and `index_col=0`.\n",
    "- display the first **5** rows."
   ]
  },
  {
   "cell_type": "code",
   "execution_count": null,
   "metadata": {},
   "outputs": [],
   "source": []
  },
  {
   "cell_type": "markdown",
   "metadata": {},
   "source": [
    "Here we are using the following 3 functions to apply an operation on all the rows of dataframe `df`\n",
    "\n",
    "- `tqdm.pandas`\n",
    "- `progress_apply`\n",
    "- `lambda`"
   ]
  },
  {
   "cell_type": "code",
   "execution_count": null,
   "metadata": {},
   "outputs": [],
   "source": [
    "tqdm.pandas(desc=\"Unidecoding the text and removing emojis\")\n",
    "df[\"text\"] = df[\"text\"].progress_apply(lambda sentence : unidecode(sentence))"
   ]
  },
  {
   "cell_type": "markdown",
   "metadata": {},
   "source": [
    "##### Step 2:\n",
    "\n",
    "Similarly using the 3 functions as you used above, transform all texts into **lowercase**"
   ]
  },
  {
   "cell_type": "code",
   "execution_count": null,
   "metadata": {},
   "outputs": [],
   "source": []
  },
  {
   "cell_type": "markdown",
   "metadata": {},
   "source": [
    "##### Step 3:\n",
    "\n",
    "Similarly using the 3 functions as you used above, **decontract** the contracted words"
   ]
  },
  {
   "cell_type": "code",
   "execution_count": 27,
   "metadata": {},
   "outputs": [],
   "source": [
    "def decontracting_text(input_text:str):\n",
    "    \n",
    "    # decontracting certain contractions\n",
    "    input_text = re.sub(r\"won't\", \"will not\", input_text)\n",
    "    input_text = re.sub(r\"can\\'t\", \"can not\", input_text)\n",
    "    input_text = re.sub(r\"n\\'t\", \" not\", input_text)\n",
    "    input_text = re.sub(r\"\\'re\", \" are\", input_text)\n",
    "    input_text = re.sub(r\"\\'s\", \" is\", input_text)\n",
    "    input_text = re.sub(r\"\\'d\", \" would\", input_text)\n",
    "    input_text = re.sub(r\"\\'ll\", \" will\", input_text)\n",
    "    input_text = re.sub(r\"\\'t\", \" not\", input_text)\n",
    "    input_text = re.sub(r\"\\'ve\", \" have\", input_text)\n",
    "    output_text = re.sub(r\"\\'m\", \" am\", input_text)\n",
    "    \n",
    "    return output_text"
   ]
  },
  {
   "cell_type": "code",
   "execution_count": null,
   "metadata": {},
   "outputs": [],
   "source": []
  },
  {
   "cell_type": "markdown",
   "metadata": {},
   "source": [
    "##### Step 4:\n",
    "\n",
    "Similarly using the 3 functions as you used above, only keep the **words**."
   ]
  },
  {
   "cell_type": "code",
   "execution_count": 29,
   "metadata": {},
   "outputs": [],
   "source": [
    "def only_keep_words(input_text:str):\n",
    "    \n",
    "    output_text = re.sub(\"(@[A-Za-z]+)|([^A-Za-z \\t])|(\\w+:\\/\\/\\S+)\",\" \",input_text)\n",
    "    \n",
    "    return output_text"
   ]
  },
  {
   "cell_type": "code",
   "execution_count": null,
   "metadata": {},
   "outputs": [],
   "source": []
  },
  {
   "cell_type": "markdown",
   "metadata": {},
   "source": [
    "##### Step 5:\n",
    "\n",
    "Similarly using the 3 functions as you used above, remove the **whitespaces**"
   ]
  },
  {
   "cell_type": "code",
   "execution_count": 31,
   "metadata": {},
   "outputs": [],
   "source": [
    "def remove_whitespaces(input_text:str):\n",
    "    \n",
    "    output_text = \" \".join(input_text.split())\n",
    "    \n",
    "    return output_text"
   ]
  },
  {
   "cell_type": "code",
   "execution_count": null,
   "metadata": {},
   "outputs": [],
   "source": []
  },
  {
   "cell_type": "markdown",
   "metadata": {},
   "source": [
    "##### Step 6:\n",
    "\n",
    "Similarly using the 3 functions as you used above, remove the words which are in **STOPWORDS**"
   ]
  },
  {
   "cell_type": "code",
   "execution_count": 33,
   "metadata": {},
   "outputs": [],
   "source": [
    "def remove_stopwords(input_text:str):\n",
    "    \n",
    "    output_text = ' '.join([word for word in input_text.split() if not word in STOPWORDS])\n",
    "    \n",
    "    return output_text"
   ]
  },
  {
   "cell_type": "code",
   "execution_count": null,
   "metadata": {},
   "outputs": [],
   "source": []
  },
  {
   "cell_type": "markdown",
   "metadata": {},
   "source": [
    "##### Step 7:\n",
    "\n",
    "Similarly using the 3 functions as you used above, remove the words which are not found in **English Dictionary**"
   ]
  },
  {
   "cell_type": "code",
   "execution_count": 35,
   "metadata": {},
   "outputs": [],
   "source": [
    "def remove_words_not_in_dictionary(input_text:str):\n",
    "    \n",
    "    output_text = ' '.join([word for word in input_text.split() if ENGLISH_DICTIONARY.check(word)])\n",
    "    \n",
    "    return output_text"
   ]
  },
  {
   "cell_type": "code",
   "execution_count": null,
   "metadata": {},
   "outputs": [],
   "source": []
  },
  {
   "cell_type": "markdown",
   "metadata": {},
   "source": [
    "##### Step 8:\n",
    "\n",
    "Save the dataframe `df` as a csv file in **data** folder. The file name must be `sentiment140_pretreated.csv`"
   ]
  },
  {
   "cell_type": "code",
   "execution_count": null,
   "metadata": {},
   "outputs": [],
   "source": []
  },
  {
   "cell_type": "markdown",
   "metadata": {},
   "source": [
    "##### Step 9:\n",
    "\n",
    "Similarly using the 3 functions as you used above, **lemmatize** the words."
   ]
  },
  {
   "cell_type": "code",
   "execution_count": null,
   "metadata": {},
   "outputs": [],
   "source": [
    "def get_lemmas(input_text:str):\n",
    "    \n",
    "    input_text = NLP(input_text)\n",
    "    output_text = ' '.join([word.lemma_ for word in input_text])\n",
    "\n",
    "    return output_text"
   ]
  },
  {
   "cell_type": "code",
   "execution_count": null,
   "metadata": {},
   "outputs": [],
   "source": []
  },
  {
   "cell_type": "markdown",
   "metadata": {},
   "source": [
    "##### Step 10:\n",
    "\n",
    "Once again, save the dataframe `df` as a csv file in **data** folder. The file name must be `sentiment140_lemmatized.csv`"
   ]
  },
  {
   "cell_type": "code",
   "execution_count": null,
   "metadata": {},
   "outputs": [],
   "source": []
  }
 ],
 "metadata": {
  "kernelspec": {
   "display_name": "enedis",
   "language": "python",
   "name": "python3"
  },
  "language_info": {
   "codemirror_mode": {
    "name": "ipython",
    "version": 3
   },
   "file_extension": ".py",
   "mimetype": "text/x-python",
   "name": "python",
   "nbconvert_exporter": "python",
   "pygments_lexer": "ipython3",
   "version": "3.12.4"
  }
 },
 "nbformat": 4,
 "nbformat_minor": 2
}
