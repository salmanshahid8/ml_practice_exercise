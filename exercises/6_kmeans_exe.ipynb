{
 "cells": [
  {
   "attachments": {},
   "cell_type": "markdown",
   "metadata": {},
   "source": [
    "Import the following librairies and modules\n",
    "\n",
    "- `pickle`\n",
    "- `warnings`\n",
    "- `numpy` as `np`\n",
    "- `pandas` as `pd`\n",
    "- `seaborn` as `sns`\n",
    "- from `sklearn.cluster` import `KMeans`\n",
    "- from `sklearn.metrics` import `silhouette_score`\n"
   ]
  },
  {
   "cell_type": "code",
   "execution_count": 1,
   "metadata": {},
   "outputs": [],
   "source": []
  },
  {
   "cell_type": "code",
   "execution_count": null,
   "metadata": {},
   "outputs": [],
   "source": [
    "# To suppress the warnings in the notebook\n",
    "warnings.filterwarnings(\"ignore\")"
   ]
  },
  {
   "attachments": {},
   "cell_type": "markdown",
   "metadata": {},
   "source": [
    "##### Step 0:\n",
    "\n",
    "- read the csv file `mall_costumers.csv` and store in the variable `df`\n",
    "- drop all the other columns except ``income`` and ``spending_score``"
   ]
  },
  {
   "cell_type": "code",
   "execution_count": null,
   "metadata": {},
   "outputs": [],
   "source": []
  },
  {
   "attachments": {},
   "cell_type": "markdown",
   "metadata": {},
   "source": [
    "##### Step 1:\n",
    "- Check the data health.\n",
    "    - Are there any missing values? See [hint](https://stackoverflow.com/questions/26266362/how-do-i-count-the-nan-values-in-a-column-in-pandas-dataframe)"
   ]
  },
  {
   "cell_type": "code",
   "execution_count": null,
   "metadata": {},
   "outputs": [],
   "source": []
  },
  {
   "cell_type": "markdown",
   "metadata": {},
   "source": [
    "##### Step 2:\n",
    "\n",
    "Since this is a unsupervised learning algorithm, therefore, we donot have to split it into `X` and `y` (and subsequently into train dataset and test dataset). In this particular problem, we need to identify the clusters of clients of a mall with respect to their monthly ``income`` and ``spending_score``.\n",
    "\n",
    "Here, our first challenge is to find the optimum number of clusters, which, by default, is not given by the shopping mall manager. So,\n",
    "\n",
    "- we can either find it by trial and error method.\n",
    "- or by using the combination of `elbow plot` and `silhoutte_score`."
   ]
  },
  {
   "cell_type": "markdown",
   "metadata": {},
   "source": [
    "##### Elbow Plot\n",
    "\n",
    "- Make a sequence of numbers from `2` to `15` and store it in variable `list_clusters`\n",
    "- Make an empty list and store in variable `list_within_cluster_sum_of_squared`\n",
    "- Iterate over the `list_clusters` such that:\n",
    "    - Call the `KMeans()` method and set `n_clusters` to the iterative number, and store in variable `kmeans`\n",
    "    - Perform `kmeans.fit()` on the dataframe `df` and store in the variable `kmeans`\n",
    "    - Append `kmeans.inertia_` in the `list_within_cluster_sum_of_squared`"
   ]
  },
  {
   "cell_type": "code",
   "execution_count": null,
   "metadata": {},
   "outputs": [],
   "source": []
  },
  {
   "cell_type": "markdown",
   "metadata": {},
   "source": [
    "- Make a dataframe `elbow` with two columns\n",
    "    - `clusters` having the `list_clusters`\n",
    "    - `within_cluster_sum_of_squared` having the `list_within_cluster_sum_of_squared`"
   ]
  },
  {
   "cell_type": "code",
   "execution_count": null,
   "metadata": {
    "vscode": {
     "languageId": "plaintext"
    }
   },
   "outputs": [],
   "source": []
  },
  {
   "cell_type": "markdown",
   "metadata": {},
   "source": [
    "- Plot a line plot using `seaborn`\n",
    "    - x = `clusters`\n",
    "    - y = `within_cluster_sum_of_squared`\n",
    "    - data = `elbow`\n",
    "    - marker= `+`"
   ]
  },
  {
   "cell_type": "code",
   "execution_count": null,
   "metadata": {},
   "outputs": [],
   "source": []
  },
  {
   "cell_type": "markdown",
   "metadata": {},
   "source": [
    "Find out in the graph where is the elbow? What number do you find on x-axis for elbow?"
   ]
  },
  {
   "cell_type": "markdown",
   "metadata": {},
   "source": [
    "##### Silhouette Plot\n",
    "\n",
    "- Make an empty list and store in variable `list_silhouette_scores`\n",
    "- Iterate over the sequence of numbers such that:\n",
    "    - Call the `KMeans()` method, set `n_clusters` to the iterative number, keep, `random_state=200` and store in variable `kmeans`\n",
    "    - Perform `kmeans.fit()` on the dataframe `df` and store in the variable `kmeans`\n",
    "    - Make a variable `label` to store `kmeans.labels_`\n",
    "    - Call the `silhouette_score()` and store output in a variable `score`. Set:\n",
    "        - `X` = `df`\n",
    "        - `labels` = `label`\n",
    "        - `metric` = `euclidean`\n",
    "        - `random_state` = `200`\n",
    "        - `sample_size` = 1000\n",
    "    - Append the `score` in `list_silhouette_scores`. "
   ]
  },
  {
   "cell_type": "code",
   "execution_count": null,
   "metadata": {},
   "outputs": [],
   "source": []
  },
  {
   "cell_type": "markdown",
   "metadata": {},
   "source": [
    "- Make a dataframe `silhouette` with two columns\n",
    "    - `clusters` having the `list_clusters`\n",
    "    - `silhouette_scores` having the `list_silhouette_scores`\n",
    "\n",
    "- Plot a line plot using `seaborn`\n",
    "    - x = `clusters`\n",
    "    - y = `silhouette_scores`\n",
    "    - data = `silhouette`\n",
    "    - marker= `+`"
   ]
  },
  {
   "cell_type": "markdown",
   "metadata": {},
   "source": [
    "For what number of clusters do you find the highest score? Does it correspond to your deduction of elbow plot? Write down the number of optimum clusters you find in a markdown below."
   ]
  },
  {
   "attachments": {},
   "cell_type": "markdown",
   "metadata": {},
   "source": [
    "##### Step 3:\n",
    "\n",
    "- Call the `KMeans()` method, set `n_clusters` to the chosen number of clusters and store in a variable `model`\n",
    "- Fit the `model` on the dataframe `df`, and store in variable `kmeans_model`."
   ]
  },
  {
   "cell_type": "code",
   "execution_count": null,
   "metadata": {},
   "outputs": [],
   "source": []
  },
  {
   "cell_type": "code",
   "execution_count": null,
   "metadata": {},
   "outputs": [],
   "source": [
    "df['clusters'] = kmeans_model.labels_"
   ]
  },
  {
   "attachments": {},
   "cell_type": "markdown",
   "metadata": {},
   "source": [
    "##### Step 4:\n",
    "\n",
    "- Plot a scatter plot using `seaborn`\n",
    "    - x = `spending_score`\n",
    "    - y = `income`\n",
    "    - hue = `clusters`\n",
    "    - data= `df`"
   ]
  },
  {
   "cell_type": "code",
   "execution_count": null,
   "metadata": {},
   "outputs": [],
   "source": []
  },
  {
   "cell_type": "markdown",
   "metadata": {},
   "source": [
    "#### Discussion\n",
    "\n",
    "You see that the clusters are color-coded. What do you deduce from the cluster on top-right? Similarly what do you deduce fro the other clusters? Write in a markdown below."
   ]
  },
  {
   "cell_type": "markdown",
   "metadata": {},
   "source": [
    "What incentives should be offered to the clients in the bottom-left clusters?"
   ]
  },
  {
   "attachments": {},
   "cell_type": "markdown",
   "metadata": {},
   "source": [
    "##### Step 5:\n",
    "\n",
    "Save the model with filename `model_kmeans.pkl`. You can use it later."
   ]
  },
  {
   "cell_type": "code",
   "execution_count": 30,
   "metadata": {},
   "outputs": [],
   "source": []
  },
  {
   "cell_type": "markdown",
   "metadata": {},
   "source": [
    "##### Real World Use-Case:\n",
    "\n",
    "Now that you have trained a clustering model, let us test on real-world use-case to identify the relevant cluster of profiles (so that subsequently the mall manager can offer them the same incentives as that of identified before)."
   ]
  },
  {
   "cell_type": "markdown",
   "metadata": {},
   "source": [
    "- read the csv file `mall_costumers_rwi.csv` and store in the variable `df_rwi`\n",
    "- drop all the other columns except ``income`` and ``spending_score``"
   ]
  },
  {
   "cell_type": "code",
   "execution_count": null,
   "metadata": {},
   "outputs": [],
   "source": []
  },
  {
   "cell_type": "markdown",
   "metadata": {},
   "source": [
    "- Check the data health.\n",
    "    - Are there any missing values?"
   ]
  },
  {
   "cell_type": "code",
   "execution_count": null,
   "metadata": {},
   "outputs": [],
   "source": []
  },
  {
   "cell_type": "markdown",
   "metadata": {},
   "source": [
    "Load the saved model `model_kmeans.pkl` and store it in variable `loaded_model`. "
   ]
  },
  {
   "cell_type": "code",
   "execution_count": null,
   "metadata": {},
   "outputs": [],
   "source": []
  },
  {
   "cell_type": "code",
   "execution_count": null,
   "metadata": {},
   "outputs": [],
   "source": [
    "y_predict_rwi = loaded_model.predict(df_rwi)\n",
    "\n",
    "df_rwi[\"clusters\"] = y_predict_rwi\n",
    "\n",
    "df_rwi.head()"
   ]
  },
  {
   "cell_type": "markdown",
   "metadata": {},
   "source": [
    "Repeat step 4 to visualize the clusters. What do you think from looking at dataframe and the visualization? Which cluster has most number of clients? Write your answer in a markdown below."
   ]
  },
  {
   "cell_type": "markdown",
   "metadata": {},
   "source": []
  }
 ],
 "metadata": {
  "kernelspec": {
   "display_name": "mhi",
   "language": "python",
   "name": "python3"
  },
  "language_info": {
   "codemirror_mode": {
    "name": "ipython",
    "version": 3
   },
   "file_extension": ".py",
   "mimetype": "text/x-python",
   "name": "python",
   "nbconvert_exporter": "python",
   "pygments_lexer": "ipython3",
   "version": "3.12.0"
  },
  "orig_nbformat": 4
 },
 "nbformat": 4,
 "nbformat_minor": 2
}
