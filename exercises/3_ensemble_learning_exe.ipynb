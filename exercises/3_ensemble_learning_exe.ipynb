{
 "cells": [
  {
   "attachments": {},
   "cell_type": "markdown",
   "metadata": {},
   "source": [
    "Import the following librairies and modules\n",
    "\n",
    "- `pickle`\n",
    "- `warnings`\n",
    "- `numpy` as `np`\n",
    "- `pandas` as `pd`\n",
    "- `matplotlib.pyplot` as `plt`\n",
    "- from `sklearn.linear_model` import `LinearRegression`\n",
    "- from `sklearn.tree` import `DecisionTreeRegressor`\n",
    "- from `sklearn.ensemble` import `RandomForestRegressor`, `AdaBoostRegressor`, `BaggingRegressor`, `GradientBoostingRegressor`\n",
    "- from `sklearn.model_selection` import `cross_val_score` and `train_test_split`\n",
    "- from `sklearn.metrics` import `r2_score` and `mean_absolute_percentage_error`\n"
   ]
  },
  {
   "cell_type": "code",
   "execution_count": 22,
   "metadata": {},
   "outputs": [],
   "source": [
    "import pickle\n",
    "import warnings \n",
    "import numpy as np \n",
    "import pandas as pd\n",
    "import matplotlib.pyplot as plt\n",
    "from sklearn.linear_model import LinearRegression\n",
    "from sklearn.model_selection import cross_val_score,train_test_split\n",
    "from sklearn.metrics import r2_score, mean_absolute_percentage_error\n",
    "from sklearn.ensemble import RandomForestRegressor,AdaBoostRegressor,BaggingRegressor,GradientBoostingRegressor\n",
    "from sklearn.tree import DecisionTreeRegressor\n",
    "from tqdm import tqdm"
   ]
  },
  {
   "cell_type": "code",
   "execution_count": 23,
   "metadata": {},
   "outputs": [],
   "source": [
    "# To suppress the warnings in the notebook\n",
    "warnings.filterwarnings(\"ignore\")"
   ]
  },
  {
   "attachments": {},
   "cell_type": "markdown",
   "metadata": {},
   "source": [
    "##### Step 0:\n",
    "\n",
    "- read the csv file `pgm_consumption.csv` and store in the variable `df`\n",
    "- set `header=0`.\n",
    "- display the first 5 rows."
   ]
  },
  {
   "cell_type": "code",
   "execution_count": 24,
   "metadata": {},
   "outputs": [
    {
     "data": {
      "text/html": [
       "<div>\n",
       "<style scoped>\n",
       "    .dataframe tbody tr th:only-of-type {\n",
       "        vertical-align: middle;\n",
       "    }\n",
       "\n",
       "    .dataframe tbody tr th {\n",
       "        vertical-align: top;\n",
       "    }\n",
       "\n",
       "    .dataframe thead th {\n",
       "        text-align: right;\n",
       "    }\n",
       "</style>\n",
       "<table border=\"1\" class=\"dataframe\">\n",
       "  <thead>\n",
       "    <tr style=\"text-align: right;\">\n",
       "      <th></th>\n",
       "      <th>datetime</th>\n",
       "      <th>consumption</th>\n",
       "    </tr>\n",
       "  </thead>\n",
       "  <tbody>\n",
       "    <tr>\n",
       "      <th>0</th>\n",
       "      <td>2004-12-31 01:00:00</td>\n",
       "      <td>13478.0</td>\n",
       "    </tr>\n",
       "    <tr>\n",
       "      <th>1</th>\n",
       "      <td>2004-12-31 02:00:00</td>\n",
       "      <td>12865.0</td>\n",
       "    </tr>\n",
       "    <tr>\n",
       "      <th>2</th>\n",
       "      <td>2004-12-31 03:00:00</td>\n",
       "      <td>12577.0</td>\n",
       "    </tr>\n",
       "    <tr>\n",
       "      <th>3</th>\n",
       "      <td>2004-12-31 04:00:00</td>\n",
       "      <td>12517.0</td>\n",
       "    </tr>\n",
       "    <tr>\n",
       "      <th>4</th>\n",
       "      <td>2004-12-31 05:00:00</td>\n",
       "      <td>12670.0</td>\n",
       "    </tr>\n",
       "  </tbody>\n",
       "</table>\n",
       "</div>"
      ],
      "text/plain": [
       "              datetime  consumption\n",
       "0  2004-12-31 01:00:00      13478.0\n",
       "1  2004-12-31 02:00:00      12865.0\n",
       "2  2004-12-31 03:00:00      12577.0\n",
       "3  2004-12-31 04:00:00      12517.0\n",
       "4  2004-12-31 05:00:00      12670.0"
      ]
     },
     "execution_count": 24,
     "metadata": {},
     "output_type": "execute_result"
    }
   ],
   "source": [
    "df=pd.read_csv('../data/pgm_consumption.csv', header=0)\n",
    "df.head(5)"
   ]
  },
  {
   "cell_type": "markdown",
   "metadata": {},
   "source": [
    "We need to treat the `datetime` column to set it as index. Simply execute the cell."
   ]
  },
  {
   "cell_type": "code",
   "execution_count": 25,
   "metadata": {},
   "outputs": [
    {
     "data": {
      "text/html": [
       "<div>\n",
       "<style scoped>\n",
       "    .dataframe tbody tr th:only-of-type {\n",
       "        vertical-align: middle;\n",
       "    }\n",
       "\n",
       "    .dataframe tbody tr th {\n",
       "        vertical-align: top;\n",
       "    }\n",
       "\n",
       "    .dataframe thead th {\n",
       "        text-align: right;\n",
       "    }\n",
       "</style>\n",
       "<table border=\"1\" class=\"dataframe\">\n",
       "  <thead>\n",
       "    <tr style=\"text-align: right;\">\n",
       "      <th></th>\n",
       "      <th>consumption</th>\n",
       "    </tr>\n",
       "    <tr>\n",
       "      <th>datetime</th>\n",
       "      <th></th>\n",
       "    </tr>\n",
       "  </thead>\n",
       "  <tbody>\n",
       "    <tr>\n",
       "      <th>2004-10-01 01:00:00</th>\n",
       "      <td>12379.0</td>\n",
       "    </tr>\n",
       "    <tr>\n",
       "      <th>2004-10-01 02:00:00</th>\n",
       "      <td>11935.0</td>\n",
       "    </tr>\n",
       "    <tr>\n",
       "      <th>2004-10-01 03:00:00</th>\n",
       "      <td>11692.0</td>\n",
       "    </tr>\n",
       "    <tr>\n",
       "      <th>2004-10-01 04:00:00</th>\n",
       "      <td>11597.0</td>\n",
       "    </tr>\n",
       "    <tr>\n",
       "      <th>2004-10-01 05:00:00</th>\n",
       "      <td>11681.0</td>\n",
       "    </tr>\n",
       "  </tbody>\n",
       "</table>\n",
       "</div>"
      ],
      "text/plain": [
       "                     consumption\n",
       "datetime                        \n",
       "2004-10-01 01:00:00      12379.0\n",
       "2004-10-01 02:00:00      11935.0\n",
       "2004-10-01 03:00:00      11692.0\n",
       "2004-10-01 04:00:00      11597.0\n",
       "2004-10-01 05:00:00      11681.0"
      ]
     },
     "execution_count": 25,
     "metadata": {},
     "output_type": "execute_result"
    }
   ],
   "source": [
    "df[\"datetime\"] = pd.to_datetime(df[\"datetime\"], format=\"%Y-%m-%d %H:%M:%S\")\n",
    "df = df.set_index(\"datetime\")\n",
    "df = df.sort_index()\n",
    "df.head()"
   ]
  },
  {
   "cell_type": "code",
   "execution_count": 26,
   "metadata": {},
   "outputs": [
    {
     "data": {
      "text/html": [
       "<div>\n",
       "<style scoped>\n",
       "    .dataframe tbody tr th:only-of-type {\n",
       "        vertical-align: middle;\n",
       "    }\n",
       "\n",
       "    .dataframe tbody tr th {\n",
       "        vertical-align: top;\n",
       "    }\n",
       "\n",
       "    .dataframe thead th {\n",
       "        text-align: right;\n",
       "    }\n",
       "</style>\n",
       "<table border=\"1\" class=\"dataframe\">\n",
       "  <thead>\n",
       "    <tr style=\"text-align: right;\">\n",
       "      <th></th>\n",
       "      <th>consumption</th>\n",
       "    </tr>\n",
       "    <tr>\n",
       "      <th>datetime</th>\n",
       "      <th></th>\n",
       "    </tr>\n",
       "  </thead>\n",
       "  <tbody>\n",
       "    <tr>\n",
       "      <th>2018-08-02 20:00:00</th>\n",
       "      <td>17673.0</td>\n",
       "    </tr>\n",
       "    <tr>\n",
       "      <th>2018-08-02 21:00:00</th>\n",
       "      <td>17303.0</td>\n",
       "    </tr>\n",
       "    <tr>\n",
       "      <th>2018-08-02 22:00:00</th>\n",
       "      <td>17001.0</td>\n",
       "    </tr>\n",
       "    <tr>\n",
       "      <th>2018-08-02 23:00:00</th>\n",
       "      <td>15964.0</td>\n",
       "    </tr>\n",
       "    <tr>\n",
       "      <th>2018-08-03 00:00:00</th>\n",
       "      <td>14809.0</td>\n",
       "    </tr>\n",
       "  </tbody>\n",
       "</table>\n",
       "</div>"
      ],
      "text/plain": [
       "                     consumption\n",
       "datetime                        \n",
       "2018-08-02 20:00:00      17673.0\n",
       "2018-08-02 21:00:00      17303.0\n",
       "2018-08-02 22:00:00      17001.0\n",
       "2018-08-02 23:00:00      15964.0\n",
       "2018-08-03 00:00:00      14809.0"
      ]
     },
     "execution_count": 26,
     "metadata": {},
     "output_type": "execute_result"
    }
   ],
   "source": [
    "df.tail()"
   ]
  },
  {
   "attachments": {},
   "cell_type": "markdown",
   "metadata": {},
   "source": [
    "##### Step 1:\n",
    "- Check the data health.\n",
    "    - Are there any missing values? See [hint](https://stackoverflow.com/questions/26266362/how-do-i-count-the-nan-values-in-a-column-in-pandas-dataframe)\n",
    "    - There are no outliers, so we donot have to check for outliers."
   ]
  },
  {
   "cell_type": "code",
   "execution_count": 27,
   "metadata": {},
   "outputs": [
    {
     "data": {
      "text/plain": [
       "consumption    0\n",
       "dtype: int64"
      ]
     },
     "execution_count": 27,
     "metadata": {},
     "output_type": "execute_result"
    }
   ],
   "source": [
    "df.isna().sum()"
   ]
  },
  {
   "cell_type": "markdown",
   "metadata": {},
   "source": [
    "- Plot the first week of the dataframe. See [Pandas Dataframe head](https://pandas.pydata.org/docs/reference/api/pandas.DataFrame.head.html)\n",
    "- By looking at the graph what do you observe in terms of pattern (seasonility) in the graph? Write in a markdown below"
   ]
  },
  {
   "cell_type": "code",
   "execution_count": 28,
   "metadata": {},
   "outputs": [
    {
     "data": {
      "text/plain": [
       "<Axes: xlabel='datetime'>"
      ]
     },
     "execution_count": 28,
     "metadata": {},
     "output_type": "execute_result"
    },
    {
     "data": {
      "image/png": "[encoded data removed]",
      "text/plain": [
       "<Figure size 640x480 with 1 Axes>"
      ]
     },
     "metadata": {},
     "output_type": "display_data"
    }
   ],
   "source": [
    "df.head(24*7).plot()"
   ]
  },
  {
   "cell_type": "code",
   "execution_count": 29,
   "metadata": {},
   "outputs": [
    {
     "data": {
      "text/plain": [
       "<Axes: xlabel='datetime'>"
      ]
     },
     "execution_count": 29,
     "metadata": {},
     "output_type": "execute_result"
    },
    {
     "data": {
      "image/png": "[encoded data removed]",
      "text/plain": [
       "<Figure size 640x480 with 1 Axes>"
      ]
     },
     "metadata": {},
     "output_type": "display_data"
    }
   ],
   "source": [
    "df.tail(24).plot()"
   ]
  },
  {
   "cell_type": "markdown",
   "metadata": {},
   "source": [
    "##### Step 2:\n",
    "\n",
    "- We need to transform this univariate dataset into multivariate dataset.\n",
    "- If you donot understand what is happening in the following cell, please raise a question."
   ]
  },
  {
   "cell_type": "code",
   "execution_count": 30,
   "metadata": {},
   "outputs": [],
   "source": [
    "number_of_hours_in_a_day = 24\n",
    "\n",
    "list_shifting_days = [1, 7, 365]\n",
    "\n",
    "for shifting_days in list_shifting_days:\n",
    "    df[f\"consumption_{shifting_days}_day\"] = df[\"consumption\"].shift(number_of_hours_in_a_day * shifting_days)\n",
    "\n",
    "df = df.dropna()"
   ]
  },
  {
   "cell_type": "code",
   "execution_count": 31,
   "metadata": {},
   "outputs": [
    {
     "data": {
      "text/html": [
       "<div>\n",
       "<style scoped>\n",
       "    .dataframe tbody tr th:only-of-type {\n",
       "        vertical-align: middle;\n",
       "    }\n",
       "\n",
       "    .dataframe tbody tr th {\n",
       "        vertical-align: top;\n",
       "    }\n",
       "\n",
       "    .dataframe thead th {\n",
       "        text-align: right;\n",
       "    }\n",
       "</style>\n",
       "<table border=\"1\" class=\"dataframe\">\n",
       "  <thead>\n",
       "    <tr style=\"text-align: right;\">\n",
       "      <th></th>\n",
       "      <th>consumption</th>\n",
       "      <th>consumption_1_day</th>\n",
       "      <th>consumption_7_day</th>\n",
       "      <th>consumption_365_day</th>\n",
       "    </tr>\n",
       "    <tr>\n",
       "      <th>datetime</th>\n",
       "      <th></th>\n",
       "      <th></th>\n",
       "      <th></th>\n",
       "      <th></th>\n",
       "    </tr>\n",
       "  </thead>\n",
       "  <tbody>\n",
       "    <tr>\n",
       "      <th>2005-10-01 03:00:00</th>\n",
       "      <td>10931.0</td>\n",
       "      <td>11577.0</td>\n",
       "      <td>12073.0</td>\n",
       "      <td>12379.0</td>\n",
       "    </tr>\n",
       "    <tr>\n",
       "      <th>2005-10-01 04:00:00</th>\n",
       "      <td>10773.0</td>\n",
       "      <td>11418.0</td>\n",
       "      <td>11762.0</td>\n",
       "      <td>11935.0</td>\n",
       "    </tr>\n",
       "    <tr>\n",
       "      <th>2005-10-01 05:00:00</th>\n",
       "      <td>10862.0</td>\n",
       "      <td>11556.0</td>\n",
       "      <td>11677.0</td>\n",
       "      <td>11692.0</td>\n",
       "    </tr>\n",
       "    <tr>\n",
       "      <th>2005-10-01 06:00:00</th>\n",
       "      <td>11006.0</td>\n",
       "      <td>12302.0</td>\n",
       "      <td>11810.0</td>\n",
       "      <td>11597.0</td>\n",
       "    </tr>\n",
       "    <tr>\n",
       "      <th>2005-10-01 07:00:00</th>\n",
       "      <td>11563.0</td>\n",
       "      <td>13849.0</td>\n",
       "      <td>12236.0</td>\n",
       "      <td>11681.0</td>\n",
       "    </tr>\n",
       "  </tbody>\n",
       "</table>\n",
       "</div>"
      ],
      "text/plain": [
       "                     consumption  consumption_1_day  consumption_7_day  \\\n",
       "datetime                                                                 \n",
       "2005-10-01 03:00:00      10931.0            11577.0            12073.0   \n",
       "2005-10-01 04:00:00      10773.0            11418.0            11762.0   \n",
       "2005-10-01 05:00:00      10862.0            11556.0            11677.0   \n",
       "2005-10-01 06:00:00      11006.0            12302.0            11810.0   \n",
       "2005-10-01 07:00:00      11563.0            13849.0            12236.0   \n",
       "\n",
       "                     consumption_365_day  \n",
       "datetime                                  \n",
       "2005-10-01 03:00:00              12379.0  \n",
       "2005-10-01 04:00:00              11935.0  \n",
       "2005-10-01 05:00:00              11692.0  \n",
       "2005-10-01 06:00:00              11597.0  \n",
       "2005-10-01 07:00:00              11681.0  "
      ]
     },
     "execution_count": 31,
     "metadata": {},
     "output_type": "execute_result"
    }
   ],
   "source": [
    "df.head()"
   ]
  },
  {
   "cell_type": "markdown",
   "metadata": {},
   "source": [
    "##### Step 3:\n",
    "\n",
    "- Split the data into input variables `X` and target variable `y`.\n",
    "- Here we would like to predict the `consumption` based on the generated columns."
   ]
  },
  {
   "cell_type": "code",
   "execution_count": 32,
   "metadata": {},
   "outputs": [
    {
     "data": {
      "text/plain": [
       "(Index(['consumption'], dtype='object'),\n",
       " Index(['consumption_1_day', 'consumption_7_day', 'consumption_365_day'], dtype='object'))"
      ]
     },
     "execution_count": 32,
     "metadata": {},
     "output_type": "execute_result"
    }
   ],
   "source": [
    "X=df.drop([\"consumption\"], axis=1)\n",
    "y=df.filter(items=[\"consumption\"])\n",
    "y.columns,X.columns"
   ]
  },
  {
   "cell_type": "code",
   "execution_count": 33,
   "metadata": {},
   "outputs": [],
   "source": [
    "dict_regressors = {\"DecisionTreeRegressor\":DecisionTreeRegressor(),\n",
    "                   \"RandomForestRegressor\":RandomForestRegressor(),\n",
    "                   \"AdaBoostRegressor\":AdaBoostRegressor(),\n",
    "                   \"BaggingRegressor\":BaggingRegressor(),\n",
    "                   \"GradientBoostingRegressor\":GradientBoostingRegressor(),\n",
    "                   \"LinearRegressor\":LinearRegression()}"
   ]
  },
  {
   "cell_type": "markdown",
   "metadata": {},
   "source": [
    "Before moving forward, let us select the algorithm which relatively gives us the best model. We can do it using `cross_val_score`.\n",
    "\n",
    "- Iterate over the dictionary `dict_regressors` to calculate `cross_val_score`. See[Scikit-Learn cross_val_score](https://scikit-learn.org/stable/modules/generated/sklearn.model_selection.cross_val_score.html)\n",
    "    - Keep `cv=5` in the input/argument of `cross_val_score`. It means that you are splitting your dataset into 5 chunks, and cross_val iterates over all of them by keeping one chunk as test subset and the other 4 as train subset. Store the result of `cross_val_score` in a variable `score`.\n",
    "    - Display the average score, rounded up to 2 decimal points, side by side to the key of `dict_regressors`. See [Python Round](https://www.w3schools.com/python/ref_func_round.asp) and [Numpy mean](https://numpy.org/doc/stable/reference/generated/numpy.mean.html)"
   ]
  },
  {
   "cell_type": "code",
   "execution_count": 34,
   "metadata": {},
   "outputs": [
    {
     "name": "stderr",
     "output_type": "stream",
     "text": [
      "Computing scores:  17%|█▋        | 1/6 [00:09<00:45,  9.11s/it]"
     ]
    },
    {
     "name": "stdout",
     "output_type": "stream",
     "text": [
      "DecisionTreeRegressor 0.5786712394201597\n"
     ]
    },
    {
     "name": "stderr",
     "output_type": "stream",
     "text": [
      "Computing scores:  33%|███▎      | 2/6 [22:34<53:00, 795.16s/it]"
     ]
    },
    {
     "name": "stdout",
     "output_type": "stream",
     "text": [
      "RandomForestRegressor 0.7727722527160733\n"
     ]
    },
    {
     "name": "stderr",
     "output_type": "stream",
     "text": [
      "Computing scores:  50%|█████     | 3/6 [23:05<22:19, 446.42s/it]"
     ]
    },
    {
     "name": "stdout",
     "output_type": "stream",
     "text": [
      "AdaBoostRegressor 0.7396584238888686\n"
     ]
    },
    {
     "name": "stderr",
     "output_type": "stream",
     "text": [
      "Computing scores:  67%|██████▋   | 4/6 [25:47<11:08, 334.08s/it]"
     ]
    },
    {
     "name": "stdout",
     "output_type": "stream",
     "text": [
      "BaggingRegressor 0.7552055410762973\n"
     ]
    },
    {
     "name": "stderr",
     "output_type": "stream",
     "text": [
      "Computing scores:  83%|████████▎ | 5/6 [28:50<04:39, 279.46s/it]"
     ]
    },
    {
     "name": "stdout",
     "output_type": "stream",
     "text": [
      "GradientBoostingRegressor 0.7954491200262603\n"
     ]
    },
    {
     "name": "stderr",
     "output_type": "stream",
     "text": [
      "Computing scores: 100%|██████████| 6/6 [28:50<00:00, 288.45s/it]"
     ]
    },
    {
     "name": "stdout",
     "output_type": "stream",
     "text": [
      "LinearRegressor 0.792353643958027\n"
     ]
    },
    {
     "name": "stderr",
     "output_type": "stream",
     "text": [
      "\n"
     ]
    }
   ],
   "source": [
    "for regressor_name,regressor in tqdm(dict_regressors.items(), desc=\"Computing scores\"):\n",
    "    score=cross_val_score(regressor, X, y, cv=5)\n",
    "    print(regressor_name, np.mean(score))\n",
    "\n"
   ]
  },
  {
   "cell_type": "markdown",
   "metadata": {},
   "source": [
    "Choose the regressor you seem better suited for this problem. Justify it in a markdown below"
   ]
  },
  {
   "attachments": {},
   "cell_type": "markdown",
   "metadata": {},
   "source": [
    "##### Step 4:\n",
    "\n",
    "We need to split the whole dataset into training subset and test subset. \n",
    "- To do so, look at the [train_test_split documentation](https://scikit-learn.org/stable/modules/generated/sklearn.model_selection.train_test_split.html) and figure out how to use the method `train_test_split` to split the dataset into subsets. \n",
    "- Keep `test_size=0.20` as an input/argument to `train_test_split` method. It means that we are keeping 20% of data for test and rest for training.\n",
    "- Keep `random_state=8` as an input/argument to `train_test_split` method.\n",
    "- Your output variable should be `X_train`, `X_test`, `y_train`, `y_test`"
   ]
  },
  {
   "cell_type": "code",
   "execution_count": 35,
   "metadata": {},
   "outputs": [],
   "source": [
    "X_train, X_test, y_train, y_test = train_test_split(\n",
    "    X, y, test_size=0.20, random_state=8)\n"
   ]
  },
  {
   "attachments": {},
   "cell_type": "markdown",
   "metadata": {},
   "source": [
    "##### Step 5:\n",
    "\n",
    "- Call the model of your chosen regressor and store in a variable `model`.\n",
    "- Fit the seen data i.e. `X_train` and `y_train` in it. \n",
    "\n",
    "See the official documentation of your chosen regressor. to find it, type it in google `scikit-learn <your_chosen_regressor>`"
   ]
  },
  {
   "cell_type": "code",
   "execution_count": 36,
   "metadata": {},
   "outputs": [
    {
     "data": {
      "text/html": [
       "<style>#sk-container-id-1 {color: black;}#sk-container-id-1 pre{padding: 0;}#sk-container-id-1 div.sk-toggleable {background-color: white;}#sk-container-id-1 label.sk-toggleable__label {cursor: pointer;display: block;width: 100%;margin-bottom: 0;padding: 0.3em;box-sizing: border-box;text-align: center;}#sk-container-id-1 label.sk-toggleable__label-arrow:before {content: \"▸\";float: left;margin-right: 0.25em;color: #696969;}#sk-container-id-1 label.sk-toggleable__label-arrow:hover:before {color: black;}#sk-container-id-1 div.sk-estimator:hover label.sk-toggleable__label-arrow:before {color: black;}#sk-container-id-1 div.sk-toggleable__content {max-height: 0;max-width: 0;overflow: hidden;text-align: left;background-color: #f0f8ff;}#sk-container-id-1 div.sk-toggleable__content pre {margin: 0.2em;color: black;border-radius: 0.25em;background-color: #f0f8ff;}#sk-container-id-1 input.sk-toggleable__control:checked~div.sk-toggleable__content {max-height: 200px;max-width: 100%;overflow: auto;}#sk-container-id-1 input.sk-toggleable__control:checked~label.sk-toggleable__label-arrow:before {content: \"▾\";}#sk-container-id-1 div.sk-estimator input.sk-toggleable__control:checked~label.sk-toggleable__label {background-color: #d4ebff;}#sk-container-id-1 div.sk-label input.sk-toggleable__control:checked~label.sk-toggleable__label {background-color: #d4ebff;}#sk-container-id-1 input.sk-hidden--visually {border: 0;clip: rect(1px 1px 1px 1px);clip: rect(1px, 1px, 1px, 1px);height: 1px;margin: -1px;overflow: hidden;padding: 0;position: absolute;width: 1px;}#sk-container-id-1 div.sk-estimator {font-family: monospace;background-color: #f0f8ff;border: 1px dotted black;border-radius: 0.25em;box-sizing: border-box;margin-bottom: 0.5em;}#sk-container-id-1 div.sk-estimator:hover {background-color: #d4ebff;}#sk-container-id-1 div.sk-parallel-item::after {content: \"\";width: 100%;border-bottom: 1px solid gray;flex-grow: 1;}#sk-container-id-1 div.sk-label:hover label.sk-toggleable__label {background-color: #d4ebff;}#sk-container-id-1 div.sk-serial::before {content: \"\";position: absolute;border-left: 1px solid gray;box-sizing: border-box;top: 0;bottom: 0;left: 50%;z-index: 0;}#sk-container-id-1 div.sk-serial {display: flex;flex-direction: column;align-items: center;background-color: white;padding-right: 0.2em;padding-left: 0.2em;position: relative;}#sk-container-id-1 div.sk-item {position: relative;z-index: 1;}#sk-container-id-1 div.sk-parallel {display: flex;align-items: stretch;justify-content: center;background-color: white;position: relative;}#sk-container-id-1 div.sk-item::before, #sk-container-id-1 div.sk-parallel-item::before {content: \"\";position: absolute;border-left: 1px solid gray;box-sizing: border-box;top: 0;bottom: 0;left: 50%;z-index: -1;}#sk-container-id-1 div.sk-parallel-item {display: flex;flex-direction: column;z-index: 1;position: relative;background-color: white;}#sk-container-id-1 div.sk-parallel-item:first-child::after {align-self: flex-end;width: 50%;}#sk-container-id-1 div.sk-parallel-item:last-child::after {align-self: flex-start;width: 50%;}#sk-container-id-1 div.sk-parallel-item:only-child::after {width: 0;}#sk-container-id-1 div.sk-dashed-wrapped {border: 1px dashed gray;margin: 0 0.4em 0.5em 0.4em;box-sizing: border-box;padding-bottom: 0.4em;background-color: white;}#sk-container-id-1 div.sk-label label {font-family: monospace;font-weight: bold;display: inline-block;line-height: 1.2em;}#sk-container-id-1 div.sk-label-container {text-align: center;}#sk-container-id-1 div.sk-container {/* jupyter's `normalize.less` sets `[hidden] { display: none; }` but bootstrap.min.css set `[hidden] { display: none !important; }` so we also need the `!important` here to be able to override the default hidden behavior on the sphinx rendered scikit-learn.org. See: https://github.com/scikit-learn/scikit-learn/issues/21755 */display: inline-block !important;position: relative;}#sk-container-id-1 div.sk-text-repr-fallback {display: none;}</style><div id=\"sk-container-id-1\" class=\"sk-top-container\"><div class=\"sk-text-repr-fallback\"><pre>GradientBoostingRegressor()</pre><b>In a Jupyter environment, please rerun this cell to show the HTML representation or trust the notebook. <br />On GitHub, the HTML representation is unable to render, please try loading this page with nbviewer.org.</b></div><div class=\"sk-container\" hidden><div class=\"sk-item\"><div class=\"sk-estimator sk-toggleable\"><input class=\"sk-toggleable__control sk-hidden--visually\" id=\"sk-estimator-id-1\" type=\"checkbox\" checked><label for=\"sk-estimator-id-1\" class=\"sk-toggleable__label sk-toggleable__label-arrow\">GradientBoostingRegressor</label><div class=\"sk-toggleable__content\"><pre>GradientBoostingRegressor()</pre></div></div></div></div></div>"
      ],
      "text/plain": [
       "GradientBoostingRegressor()"
      ]
     },
     "execution_count": 36,
     "metadata": {},
     "output_type": "execute_result"
    }
   ],
   "source": [
    "model=GradientBoostingRegressor()\n",
    "model.fit(X_train, y_train)"
   ]
  },
  {
   "attachments": {},
   "cell_type": "markdown",
   "metadata": {},
   "source": [
    "##### Step 6:\n",
    "\n",
    "To verify if the model works fine on training data (also known as seen data), we need to first predict using `X_train`.\n",
    "- Save the result in a variable `y_predict_train`"
   ]
  },
  {
   "cell_type": "code",
   "execution_count": 37,
   "metadata": {},
   "outputs": [
    {
     "data": {
      "text/plain": [
       "array([17011.59423908, 18010.88556677, 17673.88526179, ...,\n",
       "       16890.03767978, 12828.40133733, 11636.69023051])"
      ]
     },
     "execution_count": 37,
     "metadata": {},
     "output_type": "execute_result"
    }
   ],
   "source": [
    "y_predict_train=model.predict(X_train)\n",
    "y_predict_train"
   ]
  },
  {
   "attachments": {},
   "cell_type": "markdown",
   "metadata": {},
   "source": [
    "##### Step 7:\n",
    "\n",
    "- The result `y_predict_train` should be compared with the measured values `y_train` to calculate the error (or score) using an indicator.\n",
    "- Coefficient of determination also called as R2 score is used to evaluate the performance of a linear regression model. It is the amount of the variation in the output dependent attribute which is predictable from the input independent variable(s). A good R2 score is close to 1, a bad R2 score is close to 0\n",
    "\n",
    "You have to measure the r2_score. See [Scikit-Learn r2_score](https://scikit-learn.org/stable/modules/generated/sklearn.metrics.r2_score.html). \n",
    "- Remember that `y_true=y_train` and `y_pred=y_predict_train` as input/argument to `r2_score` method.\n",
    "- You should store the result in a variable `r2_train`"
   ]
  },
  {
   "cell_type": "code",
   "execution_count": 38,
   "metadata": {},
   "outputs": [
    {
     "data": {
      "text/plain": [
       "0.8116703345770836"
      ]
     },
     "execution_count": 38,
     "metadata": {},
     "output_type": "execute_result"
    }
   ],
   "source": [
    "r2_train=r2_score(y_true=y_train, y_pred=y_predict_train)\n",
    "r2_train"
   ]
  },
  {
   "cell_type": "markdown",
   "metadata": {},
   "source": [
    "Similarly, you have to measure the `mean_absoulute_percentage_error`. See [Scikit-Learn mean_absolute_percentage_error](https://scikit-learn.org/stable/modules/generated/sklearn.metrics.mean_absolute_percentage_error.html)\n",
    "\n",
    "- You should store the result in a variable `mape_train`"
   ]
  },
  {
   "cell_type": "code",
   "execution_count": 39,
   "metadata": {},
   "outputs": [
    {
     "data": {
      "text/plain": [
       "0.055063227437826406"
      ]
     },
     "execution_count": 39,
     "metadata": {},
     "output_type": "execute_result"
    }
   ],
   "source": [
    "mape_train=mape_train=mean_absolute_percentage_error(y_true=y_train, y_pred=y_predict_train)\n",
    "mape_train"
   ]
  },
  {
   "attachments": {},
   "cell_type": "markdown",
   "metadata": {},
   "source": [
    "##### Step 8-a:\n",
    "\n",
    "- predict on unseen data `X_test` subset using the `model` and save it as `y_predict_test`"
   ]
  },
  {
   "cell_type": "code",
   "execution_count": 40,
   "metadata": {},
   "outputs": [],
   "source": [
    "y_predict_test=model.predict(X_test)"
   ]
  },
  {
   "cell_type": "markdown",
   "metadata": {},
   "source": [
    "##### Step 8-b:\n",
    "\n",
    "- calculate r2 score of `y_test` and `y_predict_test`\n",
    "- You should store the result in a variable `r2_test`"
   ]
  },
  {
   "cell_type": "code",
   "execution_count": 41,
   "metadata": {},
   "outputs": [
    {
     "data": {
      "text/plain": [
       "0.8058909210719274"
      ]
     },
     "execution_count": 41,
     "metadata": {},
     "output_type": "execute_result"
    }
   ],
   "source": [
    "r2_test=r2_score(y_test,y_predict_test)\n",
    "r2_test"
   ]
  },
  {
   "cell_type": "markdown",
   "metadata": {},
   "source": [
    "- calculate mean absolute percentage error of `y_test` and `y_predict_test`\n",
    "- You should store the result in a variable `mape_test`"
   ]
  },
  {
   "cell_type": "code",
   "execution_count": 42,
   "metadata": {},
   "outputs": [
    {
     "data": {
      "text/plain": [
       "0.05591714666722536"
      ]
     },
     "execution_count": 42,
     "metadata": {},
     "output_type": "execute_result"
    }
   ],
   "source": [
    "mape_test=mean_absolute_percentage_error(y_true=y_test, y_pred=y_predict_test)\n",
    "mape_test"
   ]
  },
  {
   "attachments": {},
   "cell_type": "markdown",
   "metadata": {},
   "source": [
    "##### Step 9:\n",
    "\n",
    "- Compare `r2_train` and `r2_test`, what do you think about model? Is it best, good, bad or worst? Write your answer in a markdown below."
   ]
  },
  {
   "cell_type": "markdown",
   "metadata": {},
   "source": [
    "- Compare `mape_train` and `mape_test`, what do you think about model? Is it best, good, bad or worst? Write your answer in a markdown below."
   ]
  },
  {
   "cell_type": "markdown",
   "metadata": {},
   "source": [
    "- Looking at both indicators and their comparison that you made just above, what is your conclusion about the model. Is it marketable? Write your answer in a markdown below."
   ]
  },
  {
   "cell_type": "markdown",
   "metadata": {},
   "source": [
    "Run the cell below to visualize the prediction v/s recorded values. What do you think about the superposition of `predicted_values` on `measured_values`? Write your answer in a markdown below."
   ]
  },
  {
   "cell_type": "code",
   "execution_count": 43,
   "metadata": {},
   "outputs": [
    {
     "data": {
      "text/plain": [
       "<Axes: >"
      ]
     },
     "execution_count": 43,
     "metadata": {},
     "output_type": "execute_result"
    },
    {
     "data": {
      "image/png": "[encoded data removed]",
      "text/plain": [
       "<Figure size 640x480 with 1 Axes>"
      ]
     },
     "metadata": {},
     "output_type": "display_data"
    }
   ],
   "source": [
    "true_value = y_test.reset_index()\n",
    "df_test=pd.DataFrame()\n",
    "df_test['measured_values'] = true_value['consumption']\n",
    "df_test['predicted_values']=y_predict_test\n",
    "df_test.head(24*2).plot()"
   ]
  },
  {
   "attachments": {},
   "cell_type": "markdown",
   "metadata": {},
   "source": [
    "##### Step 10:\n",
    "\n",
    "Save the model with filename `model_abc.pkl`, where `abc` should be replaced by your chosen regressor name. You can use it later."
   ]
  },
  {
   "cell_type": "code",
   "execution_count": 44,
   "metadata": {},
   "outputs": [],
   "source": [
    "with open('../models/model_GradientBoostingRegressor.pkl', 'wb') as f:\n",
    "    pickle.dump(model, f)"
   ]
  },
  {
   "cell_type": "markdown",
   "metadata": {},
   "source": [
    "##### Real World Use-Case:\n",
    "\n",
    "Now that you have trained the model on `X_train` and tested internally yourself using `X_test`, let us test it on real-world use-case."
   ]
  },
  {
   "cell_type": "markdown",
   "metadata": {},
   "source": [
    "- read the csv file `pgm_consumption_rwi.csv` and store in the variable `X_rwi`\n",
    "- set `header=0`.\n",
    "- display the first 5 rows."
   ]
  },
  {
   "cell_type": "code",
   "execution_count": 52,
   "metadata": {},
   "outputs": [
    {
     "data": {
      "text/html": [
       "<div>\n",
       "<style scoped>\n",
       "    .dataframe tbody tr th:only-of-type {\n",
       "        vertical-align: middle;\n",
       "    }\n",
       "\n",
       "    .dataframe tbody tr th {\n",
       "        vertical-align: top;\n",
       "    }\n",
       "\n",
       "    .dataframe thead th {\n",
       "        text-align: right;\n",
       "    }\n",
       "</style>\n",
       "<table border=\"1\" class=\"dataframe\">\n",
       "  <thead>\n",
       "    <tr style=\"text-align: right;\">\n",
       "      <th></th>\n",
       "      <th>datetime</th>\n",
       "      <th>consumption_1_day</th>\n",
       "      <th>consumption_7_day</th>\n",
       "      <th>consumption_365_day</th>\n",
       "      <th>consumption_366_day</th>\n",
       "      <th>consumption_372_day</th>\n",
       "    </tr>\n",
       "  </thead>\n",
       "  <tbody>\n",
       "    <tr>\n",
       "      <th>0</th>\n",
       "      <td>2011-02-28 03:00:00</td>\n",
       "      <td>13670.0</td>\n",
       "      <td>13874.0</td>\n",
       "      <td>16392.0</td>\n",
       "      <td>17506.0</td>\n",
       "      <td>15524.0</td>\n",
       "    </tr>\n",
       "    <tr>\n",
       "      <th>1</th>\n",
       "      <td>2011-02-28 04:00:00</td>\n",
       "      <td>13640.0</td>\n",
       "      <td>13878.0</td>\n",
       "      <td>15703.0</td>\n",
       "      <td>16849.0</td>\n",
       "      <td>15021.0</td>\n",
       "    </tr>\n",
       "    <tr>\n",
       "      <th>2</th>\n",
       "      <td>2011-02-28 05:00:00</td>\n",
       "      <td>13716.0</td>\n",
       "      <td>14120.0</td>\n",
       "      <td>15218.0</td>\n",
       "      <td>16345.0</td>\n",
       "      <td>14835.0</td>\n",
       "    </tr>\n",
       "    <tr>\n",
       "      <th>3</th>\n",
       "      <td>2011-02-28 06:00:00</td>\n",
       "      <td>13815.0</td>\n",
       "      <td>14741.0</td>\n",
       "      <td>15110.0</td>\n",
       "      <td>16102.0</td>\n",
       "      <td>14735.0</td>\n",
       "    </tr>\n",
       "    <tr>\n",
       "      <th>4</th>\n",
       "      <td>2011-02-28 07:00:00</td>\n",
       "      <td>14195.0</td>\n",
       "      <td>15992.0</td>\n",
       "      <td>15159.0</td>\n",
       "      <td>16140.0</td>\n",
       "      <td>14728.0</td>\n",
       "    </tr>\n",
       "  </tbody>\n",
       "</table>\n",
       "</div>"
      ],
      "text/plain": [
       "              datetime  consumption_1_day  consumption_7_day  \\\n",
       "0  2011-02-28 03:00:00            13670.0            13874.0   \n",
       "1  2011-02-28 04:00:00            13640.0            13878.0   \n",
       "2  2011-02-28 05:00:00            13716.0            14120.0   \n",
       "3  2011-02-28 06:00:00            13815.0            14741.0   \n",
       "4  2011-02-28 07:00:00            14195.0            15992.0   \n",
       "\n",
       "   consumption_365_day  consumption_366_day  consumption_372_day  \n",
       "0              16392.0              17506.0              15524.0  \n",
       "1              15703.0              16849.0              15021.0  \n",
       "2              15218.0              16345.0              14835.0  \n",
       "3              15110.0              16102.0              14735.0  \n",
       "4              15159.0              16140.0              14728.0  "
      ]
     },
     "execution_count": 52,
     "metadata": {},
     "output_type": "execute_result"
    }
   ],
   "source": [
    "X_rwi=pd.read_csv('../data/real_world_implementation/pgm_consumption_rwi.csv', header=0,index_col=0)\n",
    "X_rwi.head()"
   ]
  },
  {
   "cell_type": "code",
   "execution_count": 53,
   "metadata": {},
   "outputs": [
    {
     "data": {
      "text/html": [
       "<div>\n",
       "<style scoped>\n",
       "    .dataframe tbody tr th:only-of-type {\n",
       "        vertical-align: middle;\n",
       "    }\n",
       "\n",
       "    .dataframe tbody tr th {\n",
       "        vertical-align: top;\n",
       "    }\n",
       "\n",
       "    .dataframe thead th {\n",
       "        text-align: right;\n",
       "    }\n",
       "</style>\n",
       "<table border=\"1\" class=\"dataframe\">\n",
       "  <thead>\n",
       "    <tr style=\"text-align: right;\">\n",
       "      <th></th>\n",
       "      <th>consumption_1_day</th>\n",
       "      <th>consumption_7_day</th>\n",
       "      <th>consumption_365_day</th>\n",
       "      <th>consumption_366_day</th>\n",
       "      <th>consumption_372_day</th>\n",
       "    </tr>\n",
       "    <tr>\n",
       "      <th>datetime</th>\n",
       "      <th></th>\n",
       "      <th></th>\n",
       "      <th></th>\n",
       "      <th></th>\n",
       "      <th></th>\n",
       "    </tr>\n",
       "  </thead>\n",
       "  <tbody>\n",
       "    <tr>\n",
       "      <th>2011-02-28 03:00:00</th>\n",
       "      <td>13670.0</td>\n",
       "      <td>13874.0</td>\n",
       "      <td>16392.0</td>\n",
       "      <td>17506.0</td>\n",
       "      <td>15524.0</td>\n",
       "    </tr>\n",
       "    <tr>\n",
       "      <th>2011-02-28 04:00:00</th>\n",
       "      <td>13640.0</td>\n",
       "      <td>13878.0</td>\n",
       "      <td>15703.0</td>\n",
       "      <td>16849.0</td>\n",
       "      <td>15021.0</td>\n",
       "    </tr>\n",
       "    <tr>\n",
       "      <th>2011-02-28 05:00:00</th>\n",
       "      <td>13716.0</td>\n",
       "      <td>14120.0</td>\n",
       "      <td>15218.0</td>\n",
       "      <td>16345.0</td>\n",
       "      <td>14835.0</td>\n",
       "    </tr>\n",
       "    <tr>\n",
       "      <th>2011-02-28 06:00:00</th>\n",
       "      <td>13815.0</td>\n",
       "      <td>14741.0</td>\n",
       "      <td>15110.0</td>\n",
       "      <td>16102.0</td>\n",
       "      <td>14735.0</td>\n",
       "    </tr>\n",
       "    <tr>\n",
       "      <th>2011-02-28 07:00:00</th>\n",
       "      <td>14195.0</td>\n",
       "      <td>15992.0</td>\n",
       "      <td>15159.0</td>\n",
       "      <td>16140.0</td>\n",
       "      <td>14728.0</td>\n",
       "    </tr>\n",
       "  </tbody>\n",
       "</table>\n",
       "</div>"
      ],
      "text/plain": [
       "                     consumption_1_day  consumption_7_day  \\\n",
       "datetime                                                    \n",
       "2011-02-28 03:00:00            13670.0            13874.0   \n",
       "2011-02-28 04:00:00            13640.0            13878.0   \n",
       "2011-02-28 05:00:00            13716.0            14120.0   \n",
       "2011-02-28 06:00:00            13815.0            14741.0   \n",
       "2011-02-28 07:00:00            14195.0            15992.0   \n",
       "\n",
       "                     consumption_365_day  consumption_366_day  \\\n",
       "datetime                                                        \n",
       "2011-02-28 03:00:00              16392.0              17506.0   \n",
       "2011-02-28 04:00:00              15703.0              16849.0   \n",
       "2011-02-28 05:00:00              15218.0              16345.0   \n",
       "2011-02-28 06:00:00              15110.0              16102.0   \n",
       "2011-02-28 07:00:00              15159.0              16140.0   \n",
       "\n",
       "                     consumption_372_day  \n",
       "datetime                                  \n",
       "2011-02-28 03:00:00              15524.0  \n",
       "2011-02-28 04:00:00              15021.0  \n",
       "2011-02-28 05:00:00              14835.0  \n",
       "2011-02-28 06:00:00              14735.0  \n",
       "2011-02-28 07:00:00              14728.0  "
      ]
     },
     "execution_count": 53,
     "metadata": {},
     "output_type": "execute_result"
    }
   ],
   "source": [
    "X_rwi[\"datetime\"] = pd.to_datetime(X_rwi[\"datetime\"], format=\"%Y-%m-%d %H:%M:%S\")\n",
    "X_rwi = X_rwi.set_index(\"datetime\")\n",
    "X_rwi = X_rwi.sort_index()\n",
    "X_rwi.head()"
   ]
  },
  {
   "cell_type": "code",
   "execution_count": 54,
   "metadata": {},
   "outputs": [],
   "source": [
    "X_rwi= X_rwi[['consumption_1_day', 'consumption_7_day', 'consumption_365_day']]"
   ]
  },
  {
   "cell_type": "markdown",
   "metadata": {},
   "source": [
    "Filter the data between **2012-07-09 00:00:00** and **2012-07-09 23:59:00**"
   ]
  },
  {
   "cell_type": "code",
   "execution_count": 55,
   "metadata": {},
   "outputs": [],
   "source": [
    "X_rwi=X_rwi.loc[\"2012-07-09 00:00:00\":\"2012-07-09 23:59:00\"]"
   ]
  },
  {
   "cell_type": "markdown",
   "metadata": {},
   "source": [
    "- Check the data health.\n",
    "    - Are there any missing values?"
   ]
  },
  {
   "cell_type": "code",
   "execution_count": 56,
   "metadata": {},
   "outputs": [
    {
     "data": {
      "text/plain": [
       "consumption_1_day      0\n",
       "consumption_7_day      0\n",
       "consumption_365_day    0\n",
       "dtype: int64"
      ]
     },
     "execution_count": 56,
     "metadata": {},
     "output_type": "execute_result"
    }
   ],
   "source": [
    "X_rwi.isna().sum()"
   ]
  },
  {
   "cell_type": "markdown",
   "metadata": {},
   "source": [
    "Load the saved model `model_abc.pkl` where `abc` should be replaced by your chosen regressor name and store it in variable `loaded_model`. "
   ]
  },
  {
   "cell_type": "code",
   "execution_count": 57,
   "metadata": {},
   "outputs": [],
   "source": [
    "loaded_model= pickle.load(open('../models/model_GradientBoostingRegressor.pkl', 'rb'))"
   ]
  },
  {
   "cell_type": "markdown",
   "metadata": {},
   "source": [
    "Repeat step 8-a, however instead of `X_test`, you have to predict on `X_rwi` and store the results in a variable `y_predict_rwi`. also display `y_predict_rwi` or better visualize it using `matplotlib`"
   ]
  },
  {
   "cell_type": "code",
   "execution_count": 64,
   "metadata": {},
   "outputs": [
    {
     "data": {
      "text/plain": [
       "array([17539.32568023, 16328.56271553, 15406.74118928, 14315.23922701,\n",
       "       13644.45779598, 13404.61679847, 13395.36144909, 13201.7635005 ,\n",
       "       13717.52643011, 14782.7650966 , 16103.01049831, 17315.67654369,\n",
       "       18183.52599834, 19174.95373231, 19577.92132392, 19923.34954616,\n",
       "       20123.7648603 , 20141.23824175, 19926.64827302, 19452.4502869 ,\n",
       "       18606.47149616, 18349.51262048, 18141.30537473, 17425.60596402])"
      ]
     },
     "execution_count": 64,
     "metadata": {},
     "output_type": "execute_result"
    }
   ],
   "source": [
    "y_predict_rwi=loaded_model.predict(X_rwi)\n",
    "y_predict_rwi"
   ]
  },
  {
   "cell_type": "code",
   "execution_count": 62,
   "metadata": {},
   "outputs": [
    {
     "data": {
      "text/plain": [
       "Timestamp('2012-07-09 23:00:00')"
      ]
     },
     "execution_count": 62,
     "metadata": {},
     "output_type": "execute_result"
    }
   ],
   "source": [
    "X_rwi.index[-1]"
   ]
  },
  {
   "cell_type": "code",
   "execution_count": 61,
   "metadata": {},
   "outputs": [
    {
     "data": {
      "text/plain": [
       "<Axes: >"
      ]
     },
     "execution_count": 61,
     "metadata": {},
     "output_type": "execute_result"
    },
    {
     "data": {
      "image/png": "[encoded data removed]",
      "text/plain": [
       "<Figure size 640x480 with 1 Axes>"
      ]
     },
     "metadata": {},
     "output_type": "display_data"
    }
   ],
   "source": [
    "df_predict = pd.DataFrame(index=range(0,len(y_predict_rwi)))\n",
    "df_predict[\"predicted_values\"]=y_predict_rwi\n",
    "df_predict.plot()\n"
   ]
  },
  {
   "cell_type": "markdown",
   "metadata": {},
   "source": [
    "By doing so, you did day-ahead prediction for **2012-07-10** of energy consumption for the DSO (named PGM here). Congratulations! The exercise ends here."
   ]
  }
 ],
 "metadata": {
  "kernelspec": {
   "display_name": "Python 3",
   "language": "python",
   "name": "python3"
  },
  "language_info": {
   "codemirror_mode": {
    "name": "ipython",
    "version": 3
   },
   "file_extension": ".py",
   "mimetype": "text/x-python",
   "name": "python",
   "nbconvert_exporter": "python",
   "pygments_lexer": "ipython3",
   "version": "3.11.4"
  },
  "orig_nbformat": 4
 },
 "nbformat": 4,
 "nbformat_minor": 2
}
