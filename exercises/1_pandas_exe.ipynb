{
 "cells": [
  {
   "cell_type": "markdown",
   "metadata": {},
   "source": [
    "Importing libraries\n",
    "\n",
    "- Simply uncomment the following cell"
   ]
  },
  {
   "cell_type": "code",
   "execution_count": 2,
   "metadata": {},
   "outputs": [],
   "source": [
    "# import numpy as np\n",
    "# import pandas as pd\n",
    "# import matplotlib.pyplot as plt\n",
    "\n",
    "# %matplotlib inline"
   ]
  },
  {
   "cell_type": "markdown",
   "metadata": {},
   "source": [
    "Make a list from 7 to 777. You can use `range function`.\n",
    "- See [Range Function](https://www.w3schools.com/python/ref_func_range.asp)"
   ]
  },
  {
   "cell_type": "code",
   "execution_count": null,
   "metadata": {},
   "outputs": [],
   "source": []
  },
  {
   "cell_type": "markdown",
   "metadata": {},
   "source": [
    "## Pandas Series"
   ]
  },
  {
   "cell_type": "markdown",
   "metadata": {},
   "source": [
    "Make a pandas series of the list you made above. Display this series as output.\n",
    "- See [Pandas Series](https://pandas.pydata.org/pandas-docs/stable/reference/api/pandas.Series.html)"
   ]
  },
  {
   "cell_type": "code",
   "execution_count": null,
   "metadata": {},
   "outputs": [],
   "source": []
  },
  {
   "cell_type": "markdown",
   "metadata": {},
   "source": [
    "- What is the element at index 4 of series? \n",
    "- What is the type of element at index 4?\n",
    "\n",
    "See [Pandas Series](https://pandas.pydata.org/pandas-docs/stable/reference/api/pandas.Series.html)"
   ]
  },
  {
   "cell_type": "code",
   "execution_count": null,
   "metadata": {},
   "outputs": [],
   "source": []
  },
  {
   "cell_type": "markdown",
   "metadata": {},
   "source": [
    "- What is the element at the 55th index of series? \n",
    "- Also what is the type of element at 55th index?\n",
    "\n",
    "See [Pandas Series](https://pandas.pydata.org/pandas-docs/stable/reference/api/pandas.Series.html)"
   ]
  },
  {
   "cell_type": "code",
   "execution_count": null,
   "metadata": {},
   "outputs": [],
   "source": []
  },
  {
   "cell_type": "markdown",
   "metadata": {},
   "source": [
    "- In the series, replace the elements at 2nd, 84th, 726th indices by `np.nan`\n",
    "- In the series, replace the elements at 37th and 377th indices by string `hello_world`\n",
    "\n",
    "See [Pandas Series](https://pandas.pydata.org/pandas-docs/stable/reference/api/pandas.Series.html)"
   ]
  },
  {
   "cell_type": "code",
   "execution_count": null,
   "metadata": {},
   "outputs": [],
   "source": []
  },
  {
   "cell_type": "markdown",
   "metadata": {},
   "source": [
    "- What is the count of elements in the series?\n",
    "- What is the count of indices in the series?\n",
    "- What is the reason if they are not equal?\n",
    "\n",
    "See [Pandas Series](https://pandas.pydata.org/pandas-docs/stable/reference/api/pandas.Series.html)"
   ]
  },
  {
   "cell_type": "code",
   "execution_count": null,
   "metadata": {},
   "outputs": [],
   "source": []
  },
  {
   "cell_type": "markdown",
   "metadata": {},
   "source": [
    "- Plot a line graph of this series.\n",
    "\n",
    "See [Pandas Series Plot](https://pandas.pydata.org/pandas-docs/stable/reference/api/pandas.Series.plot.html)"
   ]
  },
  {
   "cell_type": "code",
   "execution_count": null,
   "metadata": {},
   "outputs": [],
   "source": []
  },
  {
   "cell_type": "markdown",
   "metadata": {},
   "source": [
    "## Pandas Dataframe"
   ]
  },
  {
   "cell_type": "markdown",
   "metadata": {},
   "source": [
    "- Make a pandas dataframe of the list you made above. \n",
    "- Give the header `random_numbers` to the column.\n",
    "- Display this series as output.\n",
    "\n",
    "See [Pandas Dataframe](https://pandas.pydata.org/docs/reference/api/pandas.DataFrame.html)"
   ]
  },
  {
   "cell_type": "code",
   "execution_count": null,
   "metadata": {},
   "outputs": [],
   "source": []
  },
  {
   "cell_type": "markdown",
   "metadata": {},
   "source": [
    "- What is the element at index 444 of dataframe? \n",
    "- What is the type of element at index 444?\n",
    "\n",
    "See [Pandas Dataframe loc](https://pandas.pydata.org/docs/reference/api/pandas.DataFrame.loc.html#pandas.DataFrame.loc)"
   ]
  },
  {
   "cell_type": "code",
   "execution_count": null,
   "metadata": {},
   "outputs": [],
   "source": []
  },
  {
   "cell_type": "markdown",
   "metadata": {},
   "source": [
    "- Replace all the even numbers in the column `random_numbers` by `np.nan`.\n",
    "\n",
    "See [Modulus operation](https://www.w3schools.com/python/python_operators.asp)\n",
    "\n",
    "See [Pandas Dataframe apply](https://pandas.pydata.org/docs/reference/api/pandas.DataFrame.apply.html)"
   ]
  },
  {
   "cell_type": "code",
   "execution_count": null,
   "metadata": {},
   "outputs": [],
   "source": []
  },
  {
   "cell_type": "markdown",
   "metadata": {},
   "source": [
    "- Filter the dataframe from index 555 to index 560 and display it.\n",
    "\n",
    "See [Pandas Dataframe loc](https://pandas.pydata.org/docs/reference/api/pandas.DataFrame.loc.html#pandas.DataFrame.loc)"
   ]
  },
  {
   "cell_type": "code",
   "execution_count": null,
   "metadata": {},
   "outputs": [],
   "source": []
  },
  {
   "cell_type": "markdown",
   "metadata": {},
   "source": [
    "- What is the shape of the dataframe?\n",
    "- How many `nan` values are in the dataframe?\n",
    "- Is the dataframe empty? How can you justify it?\n",
    "\n",
    "See [Pandas Dataframe shape](https://pandas.pydata.org/docs/reference/api/pandas.DataFrame.shape.html)\n",
    "\n",
    "See [Pandas Dataframe isna](https://pandas.pydata.org/docs/reference/api/pandas.DataFrame.isna.html)\n",
    "\n",
    "See [Pandas Dataframe empty](https://pandas.pydata.org/docs/reference/api/pandas.DataFrame.empty.html)"
   ]
  },
  {
   "cell_type": "code",
   "execution_count": null,
   "metadata": {},
   "outputs": [],
   "source": []
  },
  {
   "cell_type": "code",
   "execution_count": null,
   "metadata": {},
   "outputs": [],
   "source": []
  },
  {
   "cell_type": "code",
   "execution_count": null,
   "metadata": {},
   "outputs": [],
   "source": []
  },
  {
   "cell_type": "markdown",
   "metadata": {},
   "source": [
    "We played enough with the list casting. Let us play with a dictionary\n",
    "\n",
    "- Make a dictionary of dictionaries with the following information about you and your 4 classmates (so total 5 primary keys in the dictionary).\n",
    "    - `age`, `home_country`, `shoe_size`, `eye_color`, `like_marvel_or_not`, `favorite_movie`\n",
    "\n",
    "- If you donot have answer for something, simply put `np.nan`. Here is a sample.\n",
    "\n",
    "- Convert this dictionary to dataframe. [Pandas Dataframe from dict](https://www.geeksforgeeks.org/create-pandas-dataframe-from-dictionary-of-dictionaries/)\n",
    "\n",
    "- Display the dataframe\n"
   ]
  },
  {
   "cell_type": "code",
   "execution_count": null,
   "metadata": {},
   "outputs": [],
   "source": []
  },
  {
   "cell_type": "markdown",
   "metadata": {},
   "source": [
    "- What is the shape of the dataframe?"
   ]
  },
  {
   "cell_type": "code",
   "execution_count": null,
   "metadata": {},
   "outputs": [],
   "source": []
  },
  {
   "cell_type": "markdown",
   "metadata": {},
   "source": [
    "- Display the indices of dataframe\n",
    "\n",
    "See [Pandas Dataframe Index](https://pandas.pydata.org/docs/reference/api/pandas.DataFrame.index.html)"
   ]
  },
  {
   "cell_type": "code",
   "execution_count": null,
   "metadata": {},
   "outputs": [],
   "source": []
  },
  {
   "cell_type": "markdown",
   "metadata": {},
   "source": [
    "- Display the name of columns of dataframe\n",
    "\n",
    "See [Pandas Dataframe Columns](https://pandas.pydata.org/docs/reference/api/pandas.DataFrame.columns.html)"
   ]
  },
  {
   "cell_type": "code",
   "execution_count": null,
   "metadata": {},
   "outputs": [],
   "source": []
  },
  {
   "cell_type": "markdown",
   "metadata": {},
   "source": [
    "- Ask your 4 classmates about their 2nd `favorite_movie` and replace their respective existing values in the dataframe with the new answers.\n",
    "\n",
    "- Display the modified dataframe\n",
    "\n",
    "See [Pandas Dataframe loc](https://pandas.pydata.org/docs/reference/api/pandas.DataFrame.loc.html#pandas.DataFrame.loc)"
   ]
  },
  {
   "cell_type": "code",
   "execution_count": null,
   "metadata": {},
   "outputs": [],
   "source": []
  },
  {
   "cell_type": "markdown",
   "metadata": {},
   "source": [
    "I think this practice is enough with user-defined data. Let us play with some real data now."
   ]
  },
  {
   "cell_type": "markdown",
   "metadata": {},
   "source": [
    "## Task 1"
   ]
  },
  {
   "cell_type": "markdown",
   "metadata": {},
   "source": [
    "- Read the csv file `greener_consumption.csv` using pandas. It is given in `data` folder. See [Pandas read_csv](https://pandas.pydata.org/docs/reference/api/pandas.read_csv.html). Be careful about the following inputs.\n",
    "\n",
    "    - `header`\n",
    "    - `index_col`\n",
    "    - `parse_dates`"
   ]
  },
  {
   "cell_type": "code",
   "execution_count": null,
   "metadata": {},
   "outputs": [],
   "source": []
  },
  {
   "cell_type": "markdown",
   "metadata": {},
   "source": [
    "- Display the first 5 rows of dataframe. See [Pandas Dataframe head](https://pandas.pydata.org/docs/reference/api/pandas.DataFrame.head.html)"
   ]
  },
  {
   "cell_type": "code",
   "execution_count": null,
   "metadata": {},
   "outputs": [],
   "source": []
  },
  {
   "cell_type": "markdown",
   "metadata": {},
   "source": [
    "- Display the type of 1st index of dataframe. See [Pandas Dataframe index](https://pandas.pydata.org/docs/reference/api/pandas.DataFrame.index.html)"
   ]
  },
  {
   "cell_type": "code",
   "execution_count": null,
   "metadata": {},
   "outputs": [],
   "source": []
  },
  {
   "cell_type": "markdown",
   "metadata": {},
   "source": [
    "- Display the statistics of dataframe. See [Pandas Dataframe Describe](https://pandas.pydata.org/docs/reference/api/pandas.DataFrame.describe.html)"
   ]
  },
  {
   "cell_type": "code",
   "execution_count": null,
   "metadata": {},
   "outputs": [],
   "source": []
  },
  {
   "cell_type": "markdown",
   "metadata": {},
   "source": [
    "- Display the count of empty cells. Hint: Empty cell are represented by `np.nan` in dataframe."
   ]
  },
  {
   "cell_type": "code",
   "execution_count": null,
   "metadata": {},
   "outputs": [],
   "source": []
  },
  {
   "cell_type": "markdown",
   "metadata": {},
   "source": [
    "- If there are missing cells, impute them with values. See [Pandas Dataframe Interpolate](https://pandas.pydata.org/docs/reference/api/pandas.DataFrame.interpolate.html)"
   ]
  },
  {
   "cell_type": "code",
   "execution_count": null,
   "metadata": {},
   "outputs": [],
   "source": []
  },
  {
   "cell_type": "markdown",
   "metadata": {},
   "source": [
    "- Plot the dataframe. See [Pandas Dataframe Plot](https://pandas.pydata.org/docs/reference/api/pandas.DataFrame.plot.html)"
   ]
  },
  {
   "cell_type": "code",
   "execution_count": null,
   "metadata": {},
   "outputs": [],
   "source": []
  },
  {
   "cell_type": "markdown",
   "metadata": {},
   "source": [
    "Write the answers in a markdown cell of following questions.\n",
    "\n",
    "- What is the timestep in the data?\n",
    "- What is the behavior of energy consumption on weekdays and weekends? Why is it so? Please give the dates of weekend in the data."
   ]
  },
  {
   "cell_type": "markdown",
   "metadata": {},
   "source": [
    "## Task 2"
   ]
  },
  {
   "cell_type": "markdown",
   "metadata": {},
   "source": [
    "- Read the csv file `fr_res_consumption.csv` using pandas. It is given in `data` folder. Be careful about the following inputs.\n",
    "\n",
    "    - `header`\n",
    "    - `index_col`\n",
    "    - `parse_dates`\n",
    "    - `sep`"
   ]
  },
  {
   "cell_type": "code",
   "execution_count": null,
   "metadata": {},
   "outputs": [],
   "source": []
  },
  {
   "cell_type": "markdown",
   "metadata": {},
   "source": [
    "- Display the first 5 rows of dataframe. "
   ]
  },
  {
   "cell_type": "code",
   "execution_count": null,
   "metadata": {},
   "outputs": [],
   "source": []
  },
  {
   "cell_type": "markdown",
   "metadata": {},
   "source": [
    "- Keep the `COEFFICIENT_PREPARE` column and drop the other columns from the dataframe."
   ]
  },
  {
   "cell_type": "code",
   "execution_count": null,
   "metadata": {},
   "outputs": [],
   "source": []
  },
  {
   "cell_type": "markdown",
   "metadata": {},
   "source": [
    "- Display the count of empty cells."
   ]
  },
  {
   "cell_type": "code",
   "execution_count": null,
   "metadata": {},
   "outputs": [],
   "source": []
  },
  {
   "cell_type": "markdown",
   "metadata": {},
   "source": [
    "- Display the statistics of dataframe. "
   ]
  },
  {
   "cell_type": "code",
   "execution_count": null,
   "metadata": {},
   "outputs": [],
   "source": []
  },
  {
   "cell_type": "markdown",
   "metadata": {},
   "source": [
    "- Plot the dataframe."
   ]
  },
  {
   "cell_type": "code",
   "execution_count": null,
   "metadata": {},
   "outputs": [],
   "source": []
  },
  {
   "cell_type": "markdown",
   "metadata": {},
   "source": [
    "- Do you see any outliers. If so:\n",
    "    - Replace every cell having value > 2 by `np.nan`.\n",
    "    - Interpolate to fill the empty cells."
   ]
  },
  {
   "cell_type": "code",
   "execution_count": null,
   "metadata": {},
   "outputs": [],
   "source": []
  },
  {
   "cell_type": "markdown",
   "metadata": {},
   "source": [
    "- Plot the dataframe again. Do you see any outliers?"
   ]
  },
  {
   "cell_type": "code",
   "execution_count": null,
   "metadata": {},
   "outputs": [],
   "source": []
  },
  {
   "cell_type": "markdown",
   "metadata": {},
   "source": [
    "Write the answers in a markdown cell of following questions.\n",
    "\n",
    "- What is the timestep in the data?\n",
    "- This is a snippet data of a modelling made by French DSO about the energy consumption of a typical French household. By looking at it, can you tell?\n",
    "    - During which hours of day, the peak energy consumption happens in a typical French households. Both on weekday and weekend.\n",
    "    - What do you deduce from the peak on weekdays about the energy consumption behaviour of household? Why is it recurrent at this period of day?"
   ]
  }
 ],
 "metadata": {
  "kernelspec": {
   "display_name": "mhi",
   "language": "python",
   "name": "python3"
  },
  "language_info": {
   "codemirror_mode": {
    "name": "ipython",
    "version": 3
   },
   "file_extension": ".py",
   "mimetype": "text/x-python",
   "name": "python",
   "nbconvert_exporter": "python",
   "pygments_lexer": "ipython3",
   "version": "3.12.0"
  }
 },
 "nbformat": 4,
 "nbformat_minor": 2
}
