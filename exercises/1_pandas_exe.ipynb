{
 "cells": [
  {
   "cell_type": "markdown",
   "metadata": {},
   "source": [
    "Importing libraries\n",
    "\n",
    "- Simply uncomment the following cell"
   ]
  },
  {
   "cell_type": "code",
   "execution_count": 62,
   "metadata": {},
   "outputs": [],
   "source": [
    "import numpy as np\n",
    "import pandas as pd\n",
    "import matplotlib.pyplot as plt\n",
    "\n",
    "%matplotlib inline"
   ]
  },
  {
   "cell_type": "markdown",
   "metadata": {},
   "source": [
    "Make a list from 7 to 777. You can use `range function`.\n",
    "- See [Range Function](https://www.w3schools.com/python/ref_func_range.asp)"
   ]
  },
  {
   "cell_type": "code",
   "execution_count": 63,
   "metadata": {},
   "outputs": [],
   "source": [
    "x=range(7,777+1,1)"
   ]
  },
  {
   "cell_type": "markdown",
   "metadata": {},
   "source": [
    "## Pandas Series"
   ]
  },
  {
   "cell_type": "markdown",
   "metadata": {},
   "source": [
    "Make a pandas series of the list you made above. Display this series as output.\n",
    "- See [Pandas Series](https://pandas.pydata.org/pandas-docs/stable/reference/api/pandas.Series.html)"
   ]
  },
  {
   "cell_type": "code",
   "execution_count": 64,
   "metadata": {},
   "outputs": [
    {
     "data": {
      "text/plain": [
       "0        7\n",
       "1        8\n",
       "2        9\n",
       "3       10\n",
       "4       11\n",
       "      ... \n",
       "766    773\n",
       "767    774\n",
       "768    775\n",
       "769    776\n",
       "770    777\n",
       "Length: 771, dtype: int64"
      ]
     },
     "execution_count": 64,
     "metadata": {},
     "output_type": "execute_result"
    }
   ],
   "source": [
    "ser = pd.Series(x)\n",
    "ser"
   ]
  },
  {
   "cell_type": "markdown",
   "metadata": {},
   "source": [
    "- What is the element at index 4 of series? \n",
    "- What is the type of element at index 4?\n",
    "\n",
    "See [Pandas Series](https://pandas.pydata.org/pandas-docs/stable/reference/api/pandas.Series.html)"
   ]
  },
  {
   "cell_type": "code",
   "execution_count": 65,
   "metadata": {},
   "outputs": [
    {
     "data": {
      "text/plain": [
       "(11, numpy.int64)"
      ]
     },
     "execution_count": 65,
     "metadata": {},
     "output_type": "execute_result"
    }
   ],
   "source": [
    "ser[4], type(ser[4])"
   ]
  },
  {
   "cell_type": "markdown",
   "metadata": {},
   "source": [
    "- What is the element at the 55th index of series? \n",
    "- Also what is the type of element at 55th index?\n",
    "\n",
    "See [Pandas Series](https://pandas.pydata.org/pandas-docs/stable/reference/api/pandas.Series.html)"
   ]
  },
  {
   "cell_type": "code",
   "execution_count": 66,
   "metadata": {},
   "outputs": [
    {
     "data": {
      "text/plain": [
       "(61, numpy.int64)"
      ]
     },
     "execution_count": 66,
     "metadata": {},
     "output_type": "execute_result"
    }
   ],
   "source": [
    "ser[54], type(ser[54])"
   ]
  },
  {
   "cell_type": "markdown",
   "metadata": {},
   "source": [
    "- In the series, replace the elements at 2nd, 84th, 726th indices by `np.nan`\n",
    "- In the series, replace the elements at 37th and 377th indices by string `hello_world`\n",
    "\n",
    "See [Pandas Series](https://pandas.pydata.org/pandas-docs/stable/reference/api/pandas.Series.html)"
   ]
  },
  {
   "cell_type": "code",
   "execution_count": 67,
   "metadata": {},
   "outputs": [
    {
     "data": {
      "text/plain": [
       "0        7.0\n",
       "1        NaN\n",
       "2        9.0\n",
       "3       10.0\n",
       "4       11.0\n",
       "       ...  \n",
       "766    773.0\n",
       "767    774.0\n",
       "768    775.0\n",
       "769    776.0\n",
       "770    777.0\n",
       "Length: 771, dtype: float64"
      ]
     },
     "execution_count": 67,
     "metadata": {},
     "output_type": "execute_result"
    }
   ],
   "source": [
    "ser.iloc[2-1] = np.nan\n",
    "ser.iloc[83]=np.NaN\n",
    "ser.iloc[725]=np.NaN\n",
    "# ser.iloc[37]=\"hello_world\"\n",
    "# ser.iloc[377]=\"hello_world\"\n",
    "ser"
   ]
  },
  {
   "cell_type": "markdown",
   "metadata": {},
   "source": [
    "- What is the count of elements in the series?\n",
    "- What is the count of indices in the series?\n",
    "- What is the reason if they are not equal?\n",
    "\n",
    "See [Pandas Series](https://pandas.pydata.org/pandas-docs/stable/reference/api/pandas.Series.html)"
   ]
  },
  {
   "cell_type": "code",
   "execution_count": 68,
   "metadata": {},
   "outputs": [
    {
     "data": {
      "text/plain": [
       "((771,), 771)"
      ]
     },
     "execution_count": 68,
     "metadata": {},
     "output_type": "execute_result"
    }
   ],
   "source": [
    "ser.shape,(len(ser.index))"
   ]
  },
  {
   "cell_type": "markdown",
   "metadata": {},
   "source": [
    "- Plot a line graph of this series.\n",
    "\n",
    "See [Pandas Series Plot](https://pandas.pydata.org/pandas-docs/stable/reference/api/pandas.Series.plot.html)"
   ]
  },
  {
   "cell_type": "code",
   "execution_count": 69,
   "metadata": {},
   "outputs": [
    {
     "data": {
      "image/png": "[encoded data removed]",
      "text/plain": [
       "<Figure size 640x480 with 1 Axes>"
      ]
     },
     "metadata": {},
     "output_type": "display_data"
    }
   ],
   "source": [
    "plot = ser.plot(kind='line', title=\"My plot\")"
   ]
  },
  {
   "cell_type": "markdown",
   "metadata": {},
   "source": [
    "## Pandas Dataframe"
   ]
  },
  {
   "cell_type": "markdown",
   "metadata": {},
   "source": [
    "- Make a pandas dataframe of the list you made above. \n",
    "- Give the header `random_numbers` to the column.\n",
    "- Display this series as output.\n",
    "\n",
    "See [Pandas Dataframe](https://pandas.pydata.org/docs/reference/api/pandas.DataFrame.html)"
   ]
  },
  {
   "cell_type": "code",
   "execution_count": 70,
   "metadata": {},
   "outputs": [
    {
     "data": {
      "text/html": [
       "<div>\n",
       "<style scoped>\n",
       "    .dataframe tbody tr th:only-of-type {\n",
       "        vertical-align: middle;\n",
       "    }\n",
       "\n",
       "    .dataframe tbody tr th {\n",
       "        vertical-align: top;\n",
       "    }\n",
       "\n",
       "    .dataframe thead th {\n",
       "        text-align: right;\n",
       "    }\n",
       "</style>\n",
       "<table border=\"1\" class=\"dataframe\">\n",
       "  <thead>\n",
       "    <tr style=\"text-align: right;\">\n",
       "      <th></th>\n",
       "      <th>numbers</th>\n",
       "    </tr>\n",
       "  </thead>\n",
       "  <tbody>\n",
       "    <tr>\n",
       "      <th>0</th>\n",
       "      <td>7.0</td>\n",
       "    </tr>\n",
       "    <tr>\n",
       "      <th>1</th>\n",
       "      <td>NaN</td>\n",
       "    </tr>\n",
       "    <tr>\n",
       "      <th>2</th>\n",
       "      <td>9.0</td>\n",
       "    </tr>\n",
       "    <tr>\n",
       "      <th>3</th>\n",
       "      <td>10.0</td>\n",
       "    </tr>\n",
       "    <tr>\n",
       "      <th>4</th>\n",
       "      <td>11.0</td>\n",
       "    </tr>\n",
       "  </tbody>\n",
       "</table>\n",
       "</div>"
      ],
      "text/plain": [
       "   numbers\n",
       "0      7.0\n",
       "1      NaN\n",
       "2      9.0\n",
       "3     10.0\n",
       "4     11.0"
      ]
     },
     "execution_count": 70,
     "metadata": {},
     "output_type": "execute_result"
    }
   ],
   "source": [
    "df = pd.DataFrame(data=ser, columns=[\"numbers\"])\n",
    "df.head()"
   ]
  },
  {
   "cell_type": "markdown",
   "metadata": {},
   "source": [
    "- What is the element at index 444 of dataframe? \n",
    "- What is the type of element at index 444?\n",
    "\n",
    "See [Pandas Dataframe loc](https://pandas.pydata.org/docs/reference/api/pandas.DataFrame.loc.html#pandas.DataFrame.loc)"
   ]
  },
  {
   "cell_type": "code",
   "execution_count": 71,
   "metadata": {},
   "outputs": [
    {
     "data": {
      "text/plain": [
       "numbers    451.0\n",
       "Name: 444, dtype: float64"
      ]
     },
     "execution_count": 71,
     "metadata": {},
     "output_type": "execute_result"
    }
   ],
   "source": [
    "df.loc[444]"
   ]
  },
  {
   "cell_type": "markdown",
   "metadata": {},
   "source": [
    "- Replace all the even numbers in the column `random_numbers` by `np.nan`.\n",
    "\n",
    "See [Modulus operation](https://www.w3schools.com/python/python_operators.asp)\n",
    "\n",
    "See [Pandas Dataframe apply](https://pandas.pydata.org/docs/reference/api/pandas.DataFrame.apply.html)"
   ]
  },
  {
   "cell_type": "code",
   "execution_count": null,
   "metadata": {},
   "outputs": [],
   "source": []
  },
  {
   "cell_type": "markdown",
   "metadata": {},
   "source": [
    "- Filter the dataframe from index 555 to index 560 and display it.\n",
    "\n",
    "See [Pandas Dataframe loc](https://pandas.pydata.org/docs/reference/api/pandas.DataFrame.loc.html#pandas.DataFrame.loc)"
   ]
  },
  {
   "cell_type": "code",
   "execution_count": 72,
   "metadata": {},
   "outputs": [
    {
     "data": {
      "text/plain": [
       "555    562.0\n",
       "556    563.0\n",
       "557    564.0\n",
       "558    565.0\n",
       "559    566.0\n",
       "560    567.0\n",
       "Name: numbers, dtype: float64"
      ]
     },
     "execution_count": 72,
     "metadata": {},
     "output_type": "execute_result"
    }
   ],
   "source": [
    "df.loc[555:560,\"numbers\"]"
   ]
  },
  {
   "cell_type": "markdown",
   "metadata": {},
   "source": [
    "- What is the shape of the dataframe?\n",
    "- How many `nan` values are in the dataframe?\n",
    "- Is the dataframe empty? How can you justify it?\n",
    "\n",
    "See [Pandas Dataframe shape](https://pandas.pydata.org/docs/reference/api/pandas.DataFrame.shape.html)\n",
    "\n",
    "See [Pandas Dataframe isna](https://pandas.pydata.org/docs/reference/api/pandas.DataFrame.isna.html)\n",
    "\n",
    "See [Pandas Dataframe empty](https://pandas.pydata.org/docs/reference/api/pandas.DataFrame.empty.html)"
   ]
  },
  {
   "cell_type": "code",
   "execution_count": 73,
   "metadata": {},
   "outputs": [
    {
     "data": {
      "text/plain": [
       "(771, 1)"
      ]
     },
     "execution_count": 73,
     "metadata": {},
     "output_type": "execute_result"
    }
   ],
   "source": [
    "df.shape"
   ]
  },
  {
   "cell_type": "code",
   "execution_count": 74,
   "metadata": {},
   "outputs": [
    {
     "data": {
      "text/plain": [
       "numbers    3\n",
       "dtype: int64"
      ]
     },
     "execution_count": 74,
     "metadata": {},
     "output_type": "execute_result"
    }
   ],
   "source": [
    "df.isna().sum()"
   ]
  },
  {
   "cell_type": "code",
   "execution_count": 75,
   "metadata": {},
   "outputs": [
    {
     "data": {
      "text/plain": [
       "False"
      ]
     },
     "execution_count": 75,
     "metadata": {},
     "output_type": "execute_result"
    }
   ],
   "source": [
    "df.empty"
   ]
  },
  {
   "cell_type": "markdown",
   "metadata": {},
   "source": [
    "We played enough with the list casting. Let us play with a dictionary\n",
    "\n",
    "- Make a dictionary of dictionaries with the following information about you and your 4 classmates (so total 5 primary keys in the dictionary).\n",
    "    - `age`, `home_country`, `shoe_size`, `eye_color`, `like_marvel_or_not`, `favorite_movie`\n",
    "\n",
    "- If you donot have answer for something, simply put `np.nan`. Here is a sample.\n",
    "\n",
    "- Convert this dictionary to dataframe. [Pandas Dataframe from dict](https://www.geeksforgeeks.org/create-pandas-dataframe-from-dictionary-of-dictionaries/)\n",
    "\n",
    "- Display the dataframe\n"
   ]
  },
  {
   "cell_type": "code",
   "execution_count": 76,
   "metadata": {},
   "outputs": [
    {
     "data": {
      "text/html": [
       "<div>\n",
       "<style scoped>\n",
       "    .dataframe tbody tr th:only-of-type {\n",
       "        vertical-align: middle;\n",
       "    }\n",
       "\n",
       "    .dataframe tbody tr th {\n",
       "        vertical-align: top;\n",
       "    }\n",
       "\n",
       "    .dataframe thead th {\n",
       "        text-align: right;\n",
       "    }\n",
       "</style>\n",
       "<table border=\"1\" class=\"dataframe\">\n",
       "  <thead>\n",
       "    <tr style=\"text-align: right;\">\n",
       "      <th></th>\n",
       "      <th>salman</th>\n",
       "      <th>Bushra</th>\n",
       "      <th>Ousva</th>\n",
       "      <th>hadid</th>\n",
       "    </tr>\n",
       "  </thead>\n",
       "  <tbody>\n",
       "    <tr>\n",
       "      <th>age</th>\n",
       "      <td>34</td>\n",
       "      <td>34</td>\n",
       "      <td>6</td>\n",
       "      <td>4</td>\n",
       "    </tr>\n",
       "    <tr>\n",
       "      <th>home_country</th>\n",
       "      <td>france</td>\n",
       "      <td>pakistan</td>\n",
       "      <td>spain</td>\n",
       "      <td>france</td>\n",
       "    </tr>\n",
       "    <tr>\n",
       "      <th>shoe_size</th>\n",
       "      <td>8</td>\n",
       "      <td>7</td>\n",
       "      <td>32</td>\n",
       "      <td>27</td>\n",
       "    </tr>\n",
       "    <tr>\n",
       "      <th>eye_color</th>\n",
       "      <td>black</td>\n",
       "      <td>brown</td>\n",
       "      <td>black</td>\n",
       "      <td>black</td>\n",
       "    </tr>\n",
       "    <tr>\n",
       "      <th>like_marvel_or_not</th>\n",
       "      <td>True</td>\n",
       "      <td>False</td>\n",
       "      <td>False</td>\n",
       "      <td>False</td>\n",
       "    </tr>\n",
       "    <tr>\n",
       "      <th>favorite_movie</th>\n",
       "      <td>john simple</td>\n",
       "      <td>john wick</td>\n",
       "      <td>frozen</td>\n",
       "      <td>minions</td>\n",
       "    </tr>\n",
       "  </tbody>\n",
       "</table>\n",
       "</div>"
      ],
      "text/plain": [
       "                         salman     Bushra   Ousva    hadid\n",
       "age                          34         34       6        4\n",
       "home_country             france   pakistan   spain   france\n",
       "shoe_size                     8          7      32       27\n",
       "eye_color                 black      brown   black    black\n",
       "like_marvel_or_not         True      False   False    False\n",
       "favorite_movie      john simple  john wick  frozen  minions"
      ]
     },
     "execution_count": 76,
     "metadata": {},
     "output_type": "execute_result"
    }
   ],
   "source": [
    "d={\"salman\":{\"age\":34,\n",
    "             \"home_country\":\"france\",\n",
    "             \"shoe_size\":8,\n",
    "             \"eye_color\":\"black\",\n",
    "             \"like_marvel_or_not\":True,\n",
    "             \"favorite_movie\":\"john simple\"},\n",
    "    \"Bushra\":{\"age\":34,\n",
    "             \"home_country\":\"pakistan\",\n",
    "             \"shoe_size\":7,\n",
    "             \"eye_color\":\"brown\",\n",
    "             \"like_marvel_or_not\":False,\n",
    "             \"favorite_movie\":\"john wick\"},\n",
    "    \"Ousva\":{\"age\":6,\n",
    "             \"home_country\":\"spain\",\n",
    "             \"shoe_size\":32,\n",
    "             \"eye_color\":\"black\",\n",
    "             \"like_marvel_or_not\":False,\n",
    "             \"favorite_movie\":\"frozen\"},\n",
    "    \"hadid\":{\"age\":4,\n",
    "             \"home_country\":\"france\",\n",
    "             \"shoe_size\":27,\n",
    "             \"eye_color\":\"black\",\n",
    "             \"like_marvel_or_not\":False,\n",
    "             \"favorite_movie\":\"minions\"}}\n",
    "\n",
    "data = pd.DataFrame(d)\n",
    "data"
   ]
  },
  {
   "cell_type": "markdown",
   "metadata": {},
   "source": [
    "- What is the shape of the dataframe?"
   ]
  },
  {
   "cell_type": "code",
   "execution_count": 77,
   "metadata": {},
   "outputs": [
    {
     "data": {
      "text/plain": [
       "(6, 4)"
      ]
     },
     "execution_count": 77,
     "metadata": {},
     "output_type": "execute_result"
    }
   ],
   "source": [
    "data.shape"
   ]
  },
  {
   "cell_type": "markdown",
   "metadata": {},
   "source": [
    "- Display the indices of dataframe\n",
    "\n",
    "See [Pandas Dataframe Index](https://pandas.pydata.org/docs/reference/api/pandas.DataFrame.index.html)"
   ]
  },
  {
   "cell_type": "code",
   "execution_count": 78,
   "metadata": {},
   "outputs": [
    {
     "data": {
      "text/plain": [
       "Index(['age', 'home_country', 'shoe_size', 'eye_color', 'like_marvel_or_not',\n",
       "       'favorite_movie'],\n",
       "      dtype='object')"
      ]
     },
     "execution_count": 78,
     "metadata": {},
     "output_type": "execute_result"
    }
   ],
   "source": [
    "data.index"
   ]
  },
  {
   "cell_type": "markdown",
   "metadata": {},
   "source": [
    "- Display the name of columns of dataframe\n",
    "\n",
    "See [Pandas Dataframe Columns](https://pandas.pydata.org/docs/reference/api/pandas.DataFrame.columns.html)"
   ]
  },
  {
   "cell_type": "code",
   "execution_count": 79,
   "metadata": {},
   "outputs": [
    {
     "data": {
      "text/plain": [
       "Index(['salman', 'Bushra', 'Ousva', 'hadid'], dtype='object')"
      ]
     },
     "execution_count": 79,
     "metadata": {},
     "output_type": "execute_result"
    }
   ],
   "source": [
    "data.columns"
   ]
  },
  {
   "cell_type": "markdown",
   "metadata": {},
   "source": [
    "- Ask your 4 classmates about their 2nd `favorite_movie` and replace their respective existing values in the dataframe with the new answers.\n",
    "\n",
    "- Display the modified dataframe\n",
    "\n",
    "See [Pandas Dataframe loc](https://pandas.pydata.org/docs/reference/api/pandas.DataFrame.loc.html#pandas.DataFrame.loc)"
   ]
  },
  {
   "cell_type": "code",
   "execution_count": 80,
   "metadata": {},
   "outputs": [
    {
     "data": {
      "text/html": [
       "<div>\n",
       "<style scoped>\n",
       "    .dataframe tbody tr th:only-of-type {\n",
       "        vertical-align: middle;\n",
       "    }\n",
       "\n",
       "    .dataframe tbody tr th {\n",
       "        vertical-align: top;\n",
       "    }\n",
       "\n",
       "    .dataframe thead th {\n",
       "        text-align: right;\n",
       "    }\n",
       "</style>\n",
       "<table border=\"1\" class=\"dataframe\">\n",
       "  <thead>\n",
       "    <tr style=\"text-align: right;\">\n",
       "      <th></th>\n",
       "      <th>salman</th>\n",
       "      <th>Bushra</th>\n",
       "      <th>Ousva</th>\n",
       "      <th>hadid</th>\n",
       "    </tr>\n",
       "  </thead>\n",
       "  <tbody>\n",
       "    <tr>\n",
       "      <th>age</th>\n",
       "      <td>34</td>\n",
       "      <td>34</td>\n",
       "      <td>6</td>\n",
       "      <td>4</td>\n",
       "    </tr>\n",
       "    <tr>\n",
       "      <th>home_country</th>\n",
       "      <td>france</td>\n",
       "      <td>pakistan</td>\n",
       "      <td>spain</td>\n",
       "      <td>france</td>\n",
       "    </tr>\n",
       "    <tr>\n",
       "      <th>shoe_size</th>\n",
       "      <td>8</td>\n",
       "      <td>7</td>\n",
       "      <td>32</td>\n",
       "      <td>27</td>\n",
       "    </tr>\n",
       "    <tr>\n",
       "      <th>eye_color</th>\n",
       "      <td>black</td>\n",
       "      <td>brown</td>\n",
       "      <td>black</td>\n",
       "      <td>black</td>\n",
       "    </tr>\n",
       "    <tr>\n",
       "      <th>like_marvel_or_not</th>\n",
       "      <td>True</td>\n",
       "      <td>False</td>\n",
       "      <td>False</td>\n",
       "      <td>False</td>\n",
       "    </tr>\n",
       "    <tr>\n",
       "      <th>favorite_movie</th>\n",
       "      <td>john simple</td>\n",
       "      <td>harry potter</td>\n",
       "      <td>bleu</td>\n",
       "      <td>mario</td>\n",
       "    </tr>\n",
       "  </tbody>\n",
       "</table>\n",
       "</div>"
      ],
      "text/plain": [
       "                         salman        Bushra  Ousva   hadid\n",
       "age                          34            34      6       4\n",
       "home_country             france      pakistan  spain  france\n",
       "shoe_size                     8             7     32      27\n",
       "eye_color                 black         brown  black   black\n",
       "like_marvel_or_not         True         False  False   False\n",
       "favorite_movie      john simple  harry potter   bleu   mario"
      ]
     },
     "execution_count": 80,
     "metadata": {},
     "output_type": "execute_result"
    }
   ],
   "source": [
    "data.loc[\"favorite_movie\",\"Bushra\"] = \"harry potter\"\n",
    "data.loc[\"favorite_movie\",\"hadid\"] = \"mario\"\n",
    "data.loc[\"favorite_movie\",\"Ousva\"] = \"bleu\"\n",
    "data"
   ]
  },
  {
   "cell_type": "markdown",
   "metadata": {},
   "source": [
    "I think this practice is enough with user-defined data. Let us play with some real data now."
   ]
  },
  {
   "cell_type": "markdown",
   "metadata": {},
   "source": [
    "## Task 1"
   ]
  },
  {
   "cell_type": "markdown",
   "metadata": {},
   "source": [
    "- Read the csv file `greener_consumption.csv` using pandas. It is given in `data` folder. See [Pandas read_csv](https://pandas.pydata.org/docs/reference/api/pandas.read_csv.html). Be careful about the following inputs.\n",
    "\n",
    "    - `header`\n",
    "    - `index_col`\n",
    "    - `parse_dates`"
   ]
  },
  {
   "cell_type": "code",
   "execution_count": 81,
   "metadata": {},
   "outputs": [
    {
     "data": {
      "text/plain": [
       "'d:\\\\Bushra\\\\ml_practice_exercise\\\\exercises'"
      ]
     },
     "execution_count": 81,
     "metadata": {},
     "output_type": "execute_result"
    }
   ],
   "source": [
    "import os\n",
    "os.getcwd()"
   ]
  },
  {
   "cell_type": "code",
   "execution_count": 82,
   "metadata": {},
   "outputs": [],
   "source": [
    "greener_consumption=pd.read_csv('../data/greener_consumption.csv', header=0, index_col=0, parse_dates=True)"
   ]
  },
  {
   "cell_type": "markdown",
   "metadata": {},
   "source": [
    "- Display the first 5 rows of dataframe. See [Pandas Dataframe head](https://pandas.pydata.org/docs/reference/api/pandas.DataFrame.head.html)"
   ]
  },
  {
   "cell_type": "code",
   "execution_count": 83,
   "metadata": {},
   "outputs": [
    {
     "data": {
      "text/html": [
       "<div>\n",
       "<style scoped>\n",
       "    .dataframe tbody tr th:only-of-type {\n",
       "        vertical-align: middle;\n",
       "    }\n",
       "\n",
       "    .dataframe tbody tr th {\n",
       "        vertical-align: top;\n",
       "    }\n",
       "\n",
       "    .dataframe thead th {\n",
       "        text-align: right;\n",
       "    }\n",
       "</style>\n",
       "<table border=\"1\" class=\"dataframe\">\n",
       "  <thead>\n",
       "    <tr style=\"text-align: right;\">\n",
       "      <th></th>\n",
       "      <th>consumption_W</th>\n",
       "    </tr>\n",
       "    <tr>\n",
       "      <th>time</th>\n",
       "      <th></th>\n",
       "    </tr>\n",
       "  </thead>\n",
       "  <tbody>\n",
       "    <tr>\n",
       "      <th>2023-09-13 13:00:00</th>\n",
       "      <td>236.0</td>\n",
       "    </tr>\n",
       "    <tr>\n",
       "      <th>2023-09-13 14:00:00</th>\n",
       "      <td>236.0</td>\n",
       "    </tr>\n",
       "    <tr>\n",
       "      <th>2023-09-13 15:00:00</th>\n",
       "      <td>213.0</td>\n",
       "    </tr>\n",
       "    <tr>\n",
       "      <th>2023-09-13 16:00:00</th>\n",
       "      <td>210.0</td>\n",
       "    </tr>\n",
       "    <tr>\n",
       "      <th>2023-09-13 17:00:00</th>\n",
       "      <td>181.0</td>\n",
       "    </tr>\n",
       "  </tbody>\n",
       "</table>\n",
       "</div>"
      ],
      "text/plain": [
       "                     consumption_W\n",
       "time                              \n",
       "2023-09-13 13:00:00          236.0\n",
       "2023-09-13 14:00:00          236.0\n",
       "2023-09-13 15:00:00          213.0\n",
       "2023-09-13 16:00:00          210.0\n",
       "2023-09-13 17:00:00          181.0"
      ]
     },
     "execution_count": 83,
     "metadata": {},
     "output_type": "execute_result"
    }
   ],
   "source": [
    "greener_consumption.head(5)"
   ]
  },
  {
   "cell_type": "markdown",
   "metadata": {},
   "source": [
    "- Display the type of 1st index of dataframe. See [Pandas Dataframe index](https://pandas.pydata.org/docs/reference/api/pandas.DataFrame.index.html)"
   ]
  },
  {
   "cell_type": "code",
   "execution_count": 84,
   "metadata": {},
   "outputs": [
    {
     "data": {
      "text/plain": [
       "(pandas._libs.tslibs.timestamps.Timestamp, Timestamp('2023-09-13 13:00:00'))"
      ]
     },
     "execution_count": 84,
     "metadata": {},
     "output_type": "execute_result"
    }
   ],
   "source": [
    "type(greener_consumption.index[0]), greener_consumption.index[0]"
   ]
  },
  {
   "cell_type": "markdown",
   "metadata": {},
   "source": [
    "- Display the statistics of dataframe. See [Pandas Dataframe Describe](https://pandas.pydata.org/docs/reference/api/pandas.DataFrame.describe.html)"
   ]
  },
  {
   "cell_type": "code",
   "execution_count": 85,
   "metadata": {},
   "outputs": [
    {
     "data": {
      "text/html": [
       "<div>\n",
       "<style scoped>\n",
       "    .dataframe tbody tr th:only-of-type {\n",
       "        vertical-align: middle;\n",
       "    }\n",
       "\n",
       "    .dataframe tbody tr th {\n",
       "        vertical-align: top;\n",
       "    }\n",
       "\n",
       "    .dataframe thead th {\n",
       "        text-align: right;\n",
       "    }\n",
       "</style>\n",
       "<table border=\"1\" class=\"dataframe\">\n",
       "  <thead>\n",
       "    <tr style=\"text-align: right;\">\n",
       "      <th></th>\n",
       "      <th>consumption_W</th>\n",
       "    </tr>\n",
       "  </thead>\n",
       "  <tbody>\n",
       "    <tr>\n",
       "      <th>count</th>\n",
       "      <td>167.000000</td>\n",
       "    </tr>\n",
       "    <tr>\n",
       "      <th>mean</th>\n",
       "      <td>160.396407</td>\n",
       "    </tr>\n",
       "    <tr>\n",
       "      <th>std</th>\n",
       "      <td>68.284788</td>\n",
       "    </tr>\n",
       "    <tr>\n",
       "      <th>min</th>\n",
       "      <td>45.900000</td>\n",
       "    </tr>\n",
       "    <tr>\n",
       "      <th>25%</th>\n",
       "      <td>111.000000</td>\n",
       "    </tr>\n",
       "    <tr>\n",
       "      <th>50%</th>\n",
       "      <td>127.000000</td>\n",
       "    </tr>\n",
       "    <tr>\n",
       "      <th>75%</th>\n",
       "      <td>219.000000</td>\n",
       "    </tr>\n",
       "    <tr>\n",
       "      <th>max</th>\n",
       "      <td>322.000000</td>\n",
       "    </tr>\n",
       "  </tbody>\n",
       "</table>\n",
       "</div>"
      ],
      "text/plain": [
       "       consumption_W\n",
       "count     167.000000\n",
       "mean      160.396407\n",
       "std        68.284788\n",
       "min        45.900000\n",
       "25%       111.000000\n",
       "50%       127.000000\n",
       "75%       219.000000\n",
       "max       322.000000"
      ]
     },
     "execution_count": 85,
     "metadata": {},
     "output_type": "execute_result"
    }
   ],
   "source": [
    "greener_consumption.describe()"
   ]
  },
  {
   "cell_type": "markdown",
   "metadata": {},
   "source": [
    "- Display the count of empty cells. Hint: Empty cell are represented by `np.nan` in dataframe."
   ]
  },
  {
   "cell_type": "code",
   "execution_count": 86,
   "metadata": {},
   "outputs": [
    {
     "data": {
      "text/plain": [
       "consumption_W    2\n",
       "dtype: int64"
      ]
     },
     "execution_count": 86,
     "metadata": {},
     "output_type": "execute_result"
    }
   ],
   "source": [
    "greener_consumption.isna().sum()"
   ]
  },
  {
   "cell_type": "markdown",
   "metadata": {},
   "source": [
    "- If there are missing cells, impute them with values. See [Pandas Dataframe Interpolate](https://pandas.pydata.org/docs/reference/api/pandas.DataFrame.interpolate.html)"
   ]
  },
  {
   "cell_type": "code",
   "execution_count": 87,
   "metadata": {},
   "outputs": [],
   "source": [
    "greener_consumption=greener_consumption.interpolate()"
   ]
  },
  {
   "cell_type": "markdown",
   "metadata": {},
   "source": [
    "- Plot the dataframe. See [Pandas Dataframe Plot](https://pandas.pydata.org/docs/reference/api/pandas.DataFrame.plot.html)"
   ]
  },
  {
   "cell_type": "code",
   "execution_count": 88,
   "metadata": {},
   "outputs": [
    {
     "data": {
      "text/plain": [
       "<Axes: xlabel='time'>"
      ]
     },
     "execution_count": 88,
     "metadata": {},
     "output_type": "execute_result"
    },
    {
     "data": {
      "image/png": "[encoded data removed]",
      "text/plain": [
       "<Figure size 640x480 with 1 Axes>"
      ]
     },
     "metadata": {},
     "output_type": "display_data"
    }
   ],
   "source": [
    "greener_consumption.plot()"
   ]
  },
  {
   "cell_type": "markdown",
   "metadata": {},
   "source": [
    "Write the answers in a markdown cell of following questions.\n",
    "\n",
    "- What is the timestep in the data?\n",
    "- What is the behavior of energy consumption on weekdays and weekends? Why is it so? Please give the dates of weekend in the data."
   ]
  },
  {
   "cell_type": "markdown",
   "metadata": {},
   "source": [
    "- 1 hour\n",
    "- high consumption on weekdays\n",
    "-Low consumption on weekend \n",
    "-The dates are 17 and 18 september 2023"
   ]
  },
  {
   "cell_type": "markdown",
   "metadata": {},
   "source": [
    "## Task 2"
   ]
  },
  {
   "cell_type": "markdown",
   "metadata": {},
   "source": [
    "- Read the csv file `fr_res_consumption.csv` using pandas. It is given in `data` folder. Be careful about the following inputs.\n",
    "\n",
    "    - `header`\n",
    "    - `index_col`\n",
    "    - `parse_dates`\n",
    "    - `sep`"
   ]
  },
  {
   "cell_type": "code",
   "execution_count": 105,
   "metadata": {},
   "outputs": [],
   "source": [
    "fr_res_consumption=pd.read_csv('../data/fr_res_consumption.csv', header=0, index_col=0, parse_dates=True, sep=\";\")"
   ]
  },
  {
   "cell_type": "markdown",
   "metadata": {},
   "source": [
    "- Display the first 5 rows of dataframe. "
   ]
  },
  {
   "cell_type": "code",
   "execution_count": 106,
   "metadata": {},
   "outputs": [
    {
     "data": {
      "text/html": [
       "<div>\n",
       "<style scoped>\n",
       "    .dataframe tbody tr th:only-of-type {\n",
       "        vertical-align: middle;\n",
       "    }\n",
       "\n",
       "    .dataframe tbody tr th {\n",
       "        vertical-align: top;\n",
       "    }\n",
       "\n",
       "    .dataframe thead th {\n",
       "        text-align: right;\n",
       "    }\n",
       "</style>\n",
       "<table border=\"1\" class=\"dataframe\">\n",
       "  <thead>\n",
       "    <tr style=\"text-align: right;\">\n",
       "      <th></th>\n",
       "      <th>SOUS_PROFIL</th>\n",
       "      <th>CATEGORIE</th>\n",
       "      <th>COEFFICIENT_PREPARE</th>\n",
       "      <th>COEFFICIENT_AJUSTE</th>\n",
       "      <th>COEFFICIENT_DYNAMIQUE</th>\n",
       "      <th>INDIC_DISPERS_POIDS_DYN</th>\n",
       "      <th>INDIC_PRECISION_DYN</th>\n",
       "    </tr>\n",
       "    <tr>\n",
       "      <th>HORODATE</th>\n",
       "      <th></th>\n",
       "      <th></th>\n",
       "      <th></th>\n",
       "      <th></th>\n",
       "      <th></th>\n",
       "      <th></th>\n",
       "      <th></th>\n",
       "    </tr>\n",
       "  </thead>\n",
       "  <tbody>\n",
       "    <tr>\n",
       "      <th>2024-07-01 00:00:00+02:00</th>\n",
       "      <td>RES1_BASE</td>\n",
       "      <td>Residentiel</td>\n",
       "      <td>0.6966</td>\n",
       "      <td>0.6966</td>\n",
       "      <td>0.651262</td>\n",
       "      <td>100</td>\n",
       "      <td>100</td>\n",
       "    </tr>\n",
       "    <tr>\n",
       "      <th>2024-07-01 00:30:00+02:00</th>\n",
       "      <td>RES1_BASE</td>\n",
       "      <td>Residentiel</td>\n",
       "      <td>0.6231</td>\n",
       "      <td>0.6231</td>\n",
       "      <td>0.596095</td>\n",
       "      <td>100</td>\n",
       "      <td>100</td>\n",
       "    </tr>\n",
       "    <tr>\n",
       "      <th>2024-07-01 01:00:00+02:00</th>\n",
       "      <td>RES1_BASE</td>\n",
       "      <td>Residentiel</td>\n",
       "      <td>0.5824</td>\n",
       "      <td>0.5824</td>\n",
       "      <td>0.560779</td>\n",
       "      <td>100</td>\n",
       "      <td>100</td>\n",
       "    </tr>\n",
       "    <tr>\n",
       "      <th>2024-07-01 01:30:00+02:00</th>\n",
       "      <td>RES1_BASE</td>\n",
       "      <td>Residentiel</td>\n",
       "      <td>0.5673</td>\n",
       "      <td>0.5673</td>\n",
       "      <td>0.524043</td>\n",
       "      <td>100</td>\n",
       "      <td>100</td>\n",
       "    </tr>\n",
       "    <tr>\n",
       "      <th>2024-07-01 02:00:00+02:00</th>\n",
       "      <td>RES1_BASE</td>\n",
       "      <td>Residentiel</td>\n",
       "      <td>0.5355</td>\n",
       "      <td>0.5355</td>\n",
       "      <td>0.509353</td>\n",
       "      <td>100</td>\n",
       "      <td>100</td>\n",
       "    </tr>\n",
       "  </tbody>\n",
       "</table>\n",
       "</div>"
      ],
      "text/plain": [
       "                          SOUS_PROFIL    CATEGORIE  COEFFICIENT_PREPARE  \\\n",
       "HORODATE                                                                  \n",
       "2024-07-01 00:00:00+02:00   RES1_BASE  Residentiel               0.6966   \n",
       "2024-07-01 00:30:00+02:00   RES1_BASE  Residentiel               0.6231   \n",
       "2024-07-01 01:00:00+02:00   RES1_BASE  Residentiel               0.5824   \n",
       "2024-07-01 01:30:00+02:00   RES1_BASE  Residentiel               0.5673   \n",
       "2024-07-01 02:00:00+02:00   RES1_BASE  Residentiel               0.5355   \n",
       "\n",
       "                           COEFFICIENT_AJUSTE  COEFFICIENT_DYNAMIQUE  \\\n",
       "HORODATE                                                               \n",
       "2024-07-01 00:00:00+02:00              0.6966               0.651262   \n",
       "2024-07-01 00:30:00+02:00              0.6231               0.596095   \n",
       "2024-07-01 01:00:00+02:00              0.5824               0.560779   \n",
       "2024-07-01 01:30:00+02:00              0.5673               0.524043   \n",
       "2024-07-01 02:00:00+02:00              0.5355               0.509353   \n",
       "\n",
       "                           INDIC_DISPERS_POIDS_DYN  INDIC_PRECISION_DYN  \n",
       "HORODATE                                                                 \n",
       "2024-07-01 00:00:00+02:00                      100                  100  \n",
       "2024-07-01 00:30:00+02:00                      100                  100  \n",
       "2024-07-01 01:00:00+02:00                      100                  100  \n",
       "2024-07-01 01:30:00+02:00                      100                  100  \n",
       "2024-07-01 02:00:00+02:00                      100                  100  "
      ]
     },
     "execution_count": 106,
     "metadata": {},
     "output_type": "execute_result"
    }
   ],
   "source": [
    "fr_res_consumption=fr_res_consumption.sort_index()\n",
    "fr_res_consumption.head(5)"
   ]
  },
  {
   "cell_type": "code",
   "execution_count": 107,
   "metadata": {},
   "outputs": [
    {
     "data": {
      "text/plain": [
       "Index(['SOUS_PROFIL', 'CATEGORIE', 'COEFFICIENT_PREPARE', 'COEFFICIENT_AJUSTE',\n",
       "       'COEFFICIENT_DYNAMIQUE', 'INDIC_DISPERS_POIDS_DYN',\n",
       "       'INDIC_PRECISION_DYN'],\n",
       "      dtype='object')"
      ]
     },
     "execution_count": 107,
     "metadata": {},
     "output_type": "execute_result"
    }
   ],
   "source": [
    "fr_res_consumption.columns"
   ]
  },
  {
   "cell_type": "markdown",
   "metadata": {},
   "source": [
    "- Keep the `COEFFICIENT_PREPARE` column and drop the other columns from the dataframe."
   ]
  },
  {
   "cell_type": "code",
   "execution_count": 108,
   "metadata": {},
   "outputs": [],
   "source": [
    "fr_res_consumption=fr_res_consumption[['COEFFICIENT_PREPARE']]"
   ]
  },
  {
   "cell_type": "markdown",
   "metadata": {},
   "source": [
    "- Display the count of empty cells."
   ]
  },
  {
   "cell_type": "code",
   "execution_count": 109,
   "metadata": {},
   "outputs": [
    {
     "data": {
      "text/plain": [
       "COEFFICIENT_PREPARE    0\n",
       "dtype: int64"
      ]
     },
     "execution_count": 109,
     "metadata": {},
     "output_type": "execute_result"
    }
   ],
   "source": [
    "fr_res_consumption.isna().sum()"
   ]
  },
  {
   "cell_type": "markdown",
   "metadata": {},
   "source": [
    "- Display the statistics of dataframe. "
   ]
  },
  {
   "cell_type": "code",
   "execution_count": 110,
   "metadata": {},
   "outputs": [
    {
     "data": {
      "text/html": [
       "<div>\n",
       "<style scoped>\n",
       "    .dataframe tbody tr th:only-of-type {\n",
       "        vertical-align: middle;\n",
       "    }\n",
       "\n",
       "    .dataframe tbody tr th {\n",
       "        vertical-align: top;\n",
       "    }\n",
       "\n",
       "    .dataframe thead th {\n",
       "        text-align: right;\n",
       "    }\n",
       "</style>\n",
       "<table border=\"1\" class=\"dataframe\">\n",
       "  <thead>\n",
       "    <tr style=\"text-align: right;\">\n",
       "      <th></th>\n",
       "      <th>COEFFICIENT_PREPARE</th>\n",
       "    </tr>\n",
       "  </thead>\n",
       "  <tbody>\n",
       "    <tr>\n",
       "      <th>count</th>\n",
       "      <td>1488.000000</td>\n",
       "    </tr>\n",
       "    <tr>\n",
       "      <th>mean</th>\n",
       "      <td>0.877818</td>\n",
       "    </tr>\n",
       "    <tr>\n",
       "      <th>std</th>\n",
       "      <td>0.306015</td>\n",
       "    </tr>\n",
       "    <tr>\n",
       "      <th>min</th>\n",
       "      <td>0.498300</td>\n",
       "    </tr>\n",
       "    <tr>\n",
       "      <th>25%</th>\n",
       "      <td>0.635800</td>\n",
       "    </tr>\n",
       "    <tr>\n",
       "      <th>50%</th>\n",
       "      <td>0.908350</td>\n",
       "    </tr>\n",
       "    <tr>\n",
       "      <th>75%</th>\n",
       "      <td>1.049200</td>\n",
       "    </tr>\n",
       "    <tr>\n",
       "      <th>max</th>\n",
       "      <td>6.591600</td>\n",
       "    </tr>\n",
       "  </tbody>\n",
       "</table>\n",
       "</div>"
      ],
      "text/plain": [
       "       COEFFICIENT_PREPARE\n",
       "count          1488.000000\n",
       "mean              0.877818\n",
       "std               0.306015\n",
       "min               0.498300\n",
       "25%               0.635800\n",
       "50%               0.908350\n",
       "75%               1.049200\n",
       "max               6.591600"
      ]
     },
     "execution_count": 110,
     "metadata": {},
     "output_type": "execute_result"
    }
   ],
   "source": [
    "fr_res_consumption.describe()"
   ]
  },
  {
   "cell_type": "markdown",
   "metadata": {},
   "source": [
    "- Plot the dataframe."
   ]
  },
  {
   "cell_type": "code",
   "execution_count": 111,
   "metadata": {},
   "outputs": [
    {
     "data": {
      "text/plain": [
       "<Axes: xlabel='HORODATE'>"
      ]
     },
     "execution_count": 111,
     "metadata": {},
     "output_type": "execute_result"
    },
    {
     "data": {
      "image/png": "[encoded data removed]",
      "text/plain": [
       "<Figure size 640x480 with 1 Axes>"
      ]
     },
     "metadata": {},
     "output_type": "display_data"
    }
   ],
   "source": [
    "fr_res_consumption.plot()"
   ]
  },
  {
   "cell_type": "markdown",
   "metadata": {},
   "source": [
    "- Do you see any outliers. If so:\n",
    "    - Replace every cell having value > 2 by `np.nan`.\n",
    "    - Interpolate to fill the empty cells."
   ]
  },
  {
   "cell_type": "code",
   "execution_count": 112,
   "metadata": {},
   "outputs": [],
   "source": [
    "fr_res_consumption[fr_res_consumption > 2] = np.nan"
   ]
  },
  {
   "cell_type": "code",
   "execution_count": 113,
   "metadata": {},
   "outputs": [
    {
     "data": {
      "text/plain": [
       "COEFFICIENT_PREPARE    3\n",
       "dtype: int64"
      ]
     },
     "execution_count": 113,
     "metadata": {},
     "output_type": "execute_result"
    }
   ],
   "source": [
    "fr_res_consumption.isna().sum()"
   ]
  },
  {
   "cell_type": "code",
   "execution_count": 114,
   "metadata": {},
   "outputs": [],
   "source": [
    "fr_res_consumption=fr_res_consumption.interpolate()"
   ]
  },
  {
   "cell_type": "code",
   "execution_count": 115,
   "metadata": {},
   "outputs": [
    {
     "data": {
      "text/plain": [
       "COEFFICIENT_PREPARE    0\n",
       "dtype: int64"
      ]
     },
     "execution_count": 115,
     "metadata": {},
     "output_type": "execute_result"
    }
   ],
   "source": [
    "fr_res_consumption.isna().sum()"
   ]
  },
  {
   "cell_type": "markdown",
   "metadata": {},
   "source": [
    "- Plot the dataframe again. Do you see any outliers?"
   ]
  },
  {
   "cell_type": "code",
   "execution_count": 116,
   "metadata": {},
   "outputs": [
    {
     "data": {
      "text/plain": [
       "(0.0, 2.0)"
      ]
     },
     "execution_count": 116,
     "metadata": {},
     "output_type": "execute_result"
    },
    {
     "data": {
      "image/png": "[encoded data removed]",
      "text/plain": [
       "<Figure size 640x480 with 1 Axes>"
      ]
     },
     "metadata": {},
     "output_type": "display_data"
    }
   ],
   "source": [
    "fr_res_consumption.plot()\n",
    "plt.ylim((0,2))"
   ]
  },
  {
   "cell_type": "code",
   "execution_count": 121,
   "metadata": {},
   "outputs": [
    {
     "data": {
      "text/plain": [
       "<Axes: xlabel='HORODATE'>"
      ]
     },
     "execution_count": 121,
     "metadata": {},
     "output_type": "execute_result"
    },
    {
     "data": {
      "image/png": "[encoded data removed]",
      "text/plain": [
       "<Figure size 640x480 with 1 Axes>"
      ]
     },
     "metadata": {},
     "output_type": "display_data"
    }
   ],
   "source": [
    "#weekday\n",
    "fr_res_consumption.head(24*2*2).plot()"
   ]
  },
  {
   "cell_type": "code",
   "execution_count": 120,
   "metadata": {},
   "outputs": [
    {
     "data": {
      "text/plain": [
       "<Axes: xlabel='HORODATE'>"
      ]
     },
     "execution_count": 120,
     "metadata": {},
     "output_type": "execute_result"
    },
    {
     "data": {
      "image/png": "[encoded data removed]",
      "text/plain": [
       "<Figure size 640x480 with 1 Axes>"
      ]
     },
     "metadata": {},
     "output_type": "display_data"
    }
   ],
   "source": [
    "#weekend\n",
    "fr_res_consumption.loc[\"2024-07-06 00:00:00\":\"2024-07-07 23:59:00\",:].plot()"
   ]
  },
  {
   "cell_type": "markdown",
   "metadata": {},
   "source": [
    "Write the answers in a markdown cell of following questions.\n",
    "\n",
    "- What is the timestep in the data?\n",
    "- This is a snippet data of a modelling made by French DSO about the energy consumption of a typical French household. By looking at it, can you tell?\n",
    "    - During which hours of day, the peak energy consumption happens in a typical French households. Both on weekday and weekend.\n",
    "    - What do you deduce from the peak on weekdays about the energy consumption behaviour of household? Why is it recurrent at this period of day?"
   ]
  },
  {
   "cell_type": "markdown",
   "metadata": {},
   "source": [
    "\n",
    "- 30 min\n",
    "- high consumption on weekdays\n",
    "-Low consumption on weekend \n",
    "-The dates are 1st july and 30 july 2024"
   ]
  }
 ],
 "metadata": {
  "kernelspec": {
   "display_name": "Python 3",
   "language": "python",
   "name": "python3"
  },
  "language_info": {
   "codemirror_mode": {
    "name": "ipython",
    "version": 3
   },
   "file_extension": ".py",
   "mimetype": "text/x-python",
   "name": "python",
   "nbconvert_exporter": "python",
   "pygments_lexer": "ipython3",
   "version": "3.11.4"
  }
 },
 "nbformat": 4,
 "nbformat_minor": 2
}
